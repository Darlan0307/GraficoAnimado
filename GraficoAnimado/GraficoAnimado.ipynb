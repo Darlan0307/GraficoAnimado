{
 "cells": [
  {
   "attachments": {},
   "cell_type": "markdown",
   "metadata": {},
   "source": [
    "# Criando um gráfico animado com registros de vendas de açaí"
   ]
  },
  {
   "attachments": {},
   "cell_type": "markdown",
   "metadata": {},
   "source": [
    "## Bibliotecas usadas"
   ]
  },
  {
   "cell_type": "code",
   "execution_count": 2,
   "metadata": {},
   "outputs": [],
   "source": [
    "import pandas as pd\n",
    "import plotly_express as px"
   ]
  },
  {
   "attachments": {},
   "cell_type": "markdown",
   "metadata": {},
   "source": [
    "## Importando os dados e visualizando"
   ]
  },
  {
   "cell_type": "code",
   "execution_count": 3,
   "metadata": {},
   "outputs": [
    {
     "data": {
      "text/html": [
       "<div>\n",
       "<style scoped>\n",
       "    .dataframe tbody tr th:only-of-type {\n",
       "        vertical-align: middle;\n",
       "    }\n",
       "\n",
       "    .dataframe tbody tr th {\n",
       "        vertical-align: top;\n",
       "    }\n",
       "\n",
       "    .dataframe thead th {\n",
       "        text-align: right;\n",
       "    }\n",
       "</style>\n",
       "<table border=\"1\" class=\"dataframe\">\n",
       "  <thead>\n",
       "    <tr style=\"text-align: right;\">\n",
       "      <th></th>\n",
       "      <th>id_pedido</th>\n",
       "      <th>data</th>\n",
       "      <th>loja</th>\n",
       "      <th>cidade</th>\n",
       "      <th>estado</th>\n",
       "      <th>regiao</th>\n",
       "      <th>tamanho</th>\n",
       "      <th>local_consumo</th>\n",
       "      <th>preco</th>\n",
       "      <th>forma_pagamento</th>\n",
       "      <th>ano_mes</th>\n",
       "    </tr>\n",
       "  </thead>\n",
       "  <tbody>\n",
       "    <tr>\n",
       "      <th>0</th>\n",
       "      <td>PED1994</td>\n",
       "      <td>2020-01-01</td>\n",
       "      <td>Loja 4</td>\n",
       "      <td>Santos</td>\n",
       "      <td>São Paulo</td>\n",
       "      <td>Sudeste</td>\n",
       "      <td>300ml</td>\n",
       "      <td>Consumo no local</td>\n",
       "      <td>5</td>\n",
       "      <td>Dinheiro</td>\n",
       "      <td>2020-01</td>\n",
       "    </tr>\n",
       "    <tr>\n",
       "      <th>1</th>\n",
       "      <td>PED2246</td>\n",
       "      <td>2020-01-01</td>\n",
       "      <td>Loja 6</td>\n",
       "      <td>Florianópolis</td>\n",
       "      <td>Santa Catarina</td>\n",
       "      <td>Sul</td>\n",
       "      <td>500ml</td>\n",
       "      <td>Consumo no local</td>\n",
       "      <td>11</td>\n",
       "      <td>Débito</td>\n",
       "      <td>2020-01</td>\n",
       "    </tr>\n",
       "    <tr>\n",
       "      <th>2</th>\n",
       "      <td>PED3876</td>\n",
       "      <td>2020-01-01</td>\n",
       "      <td>Loja 3</td>\n",
       "      <td>Rio de Janeiro</td>\n",
       "      <td>Rio de Janeiro</td>\n",
       "      <td>Sudeste</td>\n",
       "      <td>300ml</td>\n",
       "      <td>Delivery</td>\n",
       "      <td>7</td>\n",
       "      <td>Crédito</td>\n",
       "      <td>2020-01</td>\n",
       "    </tr>\n",
       "    <tr>\n",
       "      <th>3</th>\n",
       "      <td>PED4352</td>\n",
       "      <td>2020-01-01</td>\n",
       "      <td>Loja 1</td>\n",
       "      <td>Fortaleza</td>\n",
       "      <td>Ceará</td>\n",
       "      <td>Nordeste</td>\n",
       "      <td>1000ml</td>\n",
       "      <td>Consumo no local</td>\n",
       "      <td>7</td>\n",
       "      <td>Débito</td>\n",
       "      <td>2020-01</td>\n",
       "    </tr>\n",
       "    <tr>\n",
       "      <th>4</th>\n",
       "      <td>PED8633</td>\n",
       "      <td>2020-01-01</td>\n",
       "      <td>Loja 5</td>\n",
       "      <td>São Paulo</td>\n",
       "      <td>São Paulo</td>\n",
       "      <td>Sudeste</td>\n",
       "      <td>200ml</td>\n",
       "      <td>Delivery</td>\n",
       "      <td>9</td>\n",
       "      <td>Crédito</td>\n",
       "      <td>2020-01</td>\n",
       "    </tr>\n",
       "  </tbody>\n",
       "</table>\n",
       "</div>"
      ],
      "text/plain": [
       "  id_pedido       data    loja          cidade          estado    regiao  \\\n",
       "0   PED1994 2020-01-01  Loja 4          Santos       São Paulo   Sudeste   \n",
       "1   PED2246 2020-01-01  Loja 6   Florianópolis  Santa Catarina       Sul   \n",
       "2   PED3876 2020-01-01  Loja 3  Rio de Janeiro  Rio de Janeiro   Sudeste   \n",
       "3   PED4352 2020-01-01  Loja 1       Fortaleza           Ceará  Nordeste   \n",
       "4   PED8633 2020-01-01  Loja 5       São Paulo       São Paulo   Sudeste   \n",
       "\n",
       "  tamanho     local_consumo  preco forma_pagamento  ano_mes  \n",
       "0   300ml  Consumo no local      5        Dinheiro  2020-01  \n",
       "1   500ml  Consumo no local     11          Débito  2020-01  \n",
       "2   300ml          Delivery      7         Crédito  2020-01  \n",
       "3  1000ml  Consumo no local      7          Débito  2020-01  \n",
       "4   200ml          Delivery      9         Crédito  2020-01  "
      ]
     },
     "execution_count": 3,
     "metadata": {},
     "output_type": "execute_result"
    }
   ],
   "source": [
    "dados = pd.read_excel('vendas.xlsx')\n",
    "\n",
    "dados.head()"
   ]
  },
  {
   "attachments": {},
   "cell_type": "markdown",
   "metadata": {},
   "source": [
    "## Criando o gráfico animado"
   ]
  },
  {
   "cell_type": "code",
   "execution_count": null,
   "metadata": {},
   "outputs": [],
   "source": [
    "# agrupando os dados\n",
    "agrupado = dados.groupby(['loja', 'ano_mes']).sum() #\n",
    "\n",
    "#resetando os índices\n",
    "agrupado.reset_index(inplace=True)\n",
    "\n",
    "# criando uma coluna com o valor acumulado\n",
    "agrupado['acumulado'] = agrupado.groupby('loja').cumsum()"
   ]
  },
  {
   "cell_type": "code",
   "execution_count": 5,
   "metadata": {},
   "outputs": [
    {
     "data": {
      "application/vnd.plotly.v1+json": {
       "config": {
        "plotlyServerURL": "https://plot.ly"
       },
       "data": [
        {
         "alignmentgroup": "True",
         "hovertemplate": "loja=%{y}<br>ano_mes=2020-01<br>acumulado=%{x}<extra></extra>",
         "legendgroup": "Loja 1",
         "marker": {
          "color": "#636efa",
          "pattern": {
           "shape": ""
          }
         },
         "name": "Loja 1",
         "offsetgroup": "Loja 1",
         "orientation": "h",
         "showlegend": true,
         "textposition": "auto",
         "texttemplate": "%{x}",
         "type": "bar",
         "x": [
          2155
         ],
         "xaxis": "x",
         "y": [
          "Loja 1"
         ],
         "yaxis": "y"
        },
        {
         "alignmentgroup": "True",
         "hovertemplate": "loja=%{y}<br>ano_mes=2020-01<br>acumulado=%{x}<extra></extra>",
         "legendgroup": "Loja 2",
         "marker": {
          "color": "#EF553B",
          "pattern": {
           "shape": ""
          }
         },
         "name": "Loja 2",
         "offsetgroup": "Loja 2",
         "orientation": "h",
         "showlegend": true,
         "textposition": "auto",
         "texttemplate": "%{x}",
         "type": "bar",
         "x": [
          1202
         ],
         "xaxis": "x",
         "y": [
          "Loja 2"
         ],
         "yaxis": "y"
        },
        {
         "alignmentgroup": "True",
         "hovertemplate": "loja=%{y}<br>ano_mes=2020-01<br>acumulado=%{x}<extra></extra>",
         "legendgroup": "Loja 3",
         "marker": {
          "color": "#00cc96",
          "pattern": {
           "shape": ""
          }
         },
         "name": "Loja 3",
         "offsetgroup": "Loja 3",
         "orientation": "h",
         "showlegend": true,
         "textposition": "auto",
         "texttemplate": "%{x}",
         "type": "bar",
         "x": [
          2084
         ],
         "xaxis": "x",
         "y": [
          "Loja 3"
         ],
         "yaxis": "y"
        },
        {
         "alignmentgroup": "True",
         "hovertemplate": "loja=%{y}<br>ano_mes=2020-01<br>acumulado=%{x}<extra></extra>",
         "legendgroup": "Loja 4",
         "marker": {
          "color": "#ab63fa",
          "pattern": {
           "shape": ""
          }
         },
         "name": "Loja 4",
         "offsetgroup": "Loja 4",
         "orientation": "h",
         "showlegend": true,
         "textposition": "auto",
         "texttemplate": "%{x}",
         "type": "bar",
         "x": [
          2584
         ],
         "xaxis": "x",
         "y": [
          "Loja 4"
         ],
         "yaxis": "y"
        },
        {
         "alignmentgroup": "True",
         "hovertemplate": "loja=%{y}<br>ano_mes=2020-01<br>acumulado=%{x}<extra></extra>",
         "legendgroup": "Loja 5",
         "marker": {
          "color": "#FFA15A",
          "pattern": {
           "shape": ""
          }
         },
         "name": "Loja 5",
         "offsetgroup": "Loja 5",
         "orientation": "h",
         "showlegend": true,
         "textposition": "auto",
         "texttemplate": "%{x}",
         "type": "bar",
         "x": [
          2226
         ],
         "xaxis": "x",
         "y": [
          "Loja 5"
         ],
         "yaxis": "y"
        },
        {
         "alignmentgroup": "True",
         "hovertemplate": "loja=%{y}<br>ano_mes=2020-01<br>acumulado=%{x}<extra></extra>",
         "legendgroup": "Loja 6",
         "marker": {
          "color": "#19d3f3",
          "pattern": {
           "shape": ""
          }
         },
         "name": "Loja 6",
         "offsetgroup": "Loja 6",
         "orientation": "h",
         "showlegend": true,
         "textposition": "auto",
         "texttemplate": "%{x}",
         "type": "bar",
         "x": [
          1608
         ],
         "xaxis": "x",
         "y": [
          "Loja 6"
         ],
         "yaxis": "y"
        }
       ],
       "frames": [
        {
         "data": [
          {
           "alignmentgroup": "True",
           "hovertemplate": "loja=%{y}<br>ano_mes=2020-01<br>acumulado=%{x}<extra></extra>",
           "legendgroup": "Loja 1",
           "marker": {
            "color": "#636efa",
            "pattern": {
             "shape": ""
            }
           },
           "name": "Loja 1",
           "offsetgroup": "Loja 1",
           "orientation": "h",
           "showlegend": true,
           "textposition": "auto",
           "texttemplate": "%{x}",
           "type": "bar",
           "x": [
            2155
           ],
           "xaxis": "x",
           "y": [
            "Loja 1"
           ],
           "yaxis": "y"
          },
          {
           "alignmentgroup": "True",
           "hovertemplate": "loja=%{y}<br>ano_mes=2020-01<br>acumulado=%{x}<extra></extra>",
           "legendgroup": "Loja 2",
           "marker": {
            "color": "#EF553B",
            "pattern": {
             "shape": ""
            }
           },
           "name": "Loja 2",
           "offsetgroup": "Loja 2",
           "orientation": "h",
           "showlegend": true,
           "textposition": "auto",
           "texttemplate": "%{x}",
           "type": "bar",
           "x": [
            1202
           ],
           "xaxis": "x",
           "y": [
            "Loja 2"
           ],
           "yaxis": "y"
          },
          {
           "alignmentgroup": "True",
           "hovertemplate": "loja=%{y}<br>ano_mes=2020-01<br>acumulado=%{x}<extra></extra>",
           "legendgroup": "Loja 3",
           "marker": {
            "color": "#00cc96",
            "pattern": {
             "shape": ""
            }
           },
           "name": "Loja 3",
           "offsetgroup": "Loja 3",
           "orientation": "h",
           "showlegend": true,
           "textposition": "auto",
           "texttemplate": "%{x}",
           "type": "bar",
           "x": [
            2084
           ],
           "xaxis": "x",
           "y": [
            "Loja 3"
           ],
           "yaxis": "y"
          },
          {
           "alignmentgroup": "True",
           "hovertemplate": "loja=%{y}<br>ano_mes=2020-01<br>acumulado=%{x}<extra></extra>",
           "legendgroup": "Loja 4",
           "marker": {
            "color": "#ab63fa",
            "pattern": {
             "shape": ""
            }
           },
           "name": "Loja 4",
           "offsetgroup": "Loja 4",
           "orientation": "h",
           "showlegend": true,
           "textposition": "auto",
           "texttemplate": "%{x}",
           "type": "bar",
           "x": [
            2584
           ],
           "xaxis": "x",
           "y": [
            "Loja 4"
           ],
           "yaxis": "y"
          },
          {
           "alignmentgroup": "True",
           "hovertemplate": "loja=%{y}<br>ano_mes=2020-01<br>acumulado=%{x}<extra></extra>",
           "legendgroup": "Loja 5",
           "marker": {
            "color": "#FFA15A",
            "pattern": {
             "shape": ""
            }
           },
           "name": "Loja 5",
           "offsetgroup": "Loja 5",
           "orientation": "h",
           "showlegend": true,
           "textposition": "auto",
           "texttemplate": "%{x}",
           "type": "bar",
           "x": [
            2226
           ],
           "xaxis": "x",
           "y": [
            "Loja 5"
           ],
           "yaxis": "y"
          },
          {
           "alignmentgroup": "True",
           "hovertemplate": "loja=%{y}<br>ano_mes=2020-01<br>acumulado=%{x}<extra></extra>",
           "legendgroup": "Loja 6",
           "marker": {
            "color": "#19d3f3",
            "pattern": {
             "shape": ""
            }
           },
           "name": "Loja 6",
           "offsetgroup": "Loja 6",
           "orientation": "h",
           "showlegend": true,
           "textposition": "auto",
           "texttemplate": "%{x}",
           "type": "bar",
           "x": [
            1608
           ],
           "xaxis": "x",
           "y": [
            "Loja 6"
           ],
           "yaxis": "y"
          }
         ],
         "name": "2020-01"
        },
        {
         "data": [
          {
           "alignmentgroup": "True",
           "hovertemplate": "loja=%{y}<br>ano_mes=2020-02<br>acumulado=%{x}<extra></extra>",
           "legendgroup": "Loja 1",
           "marker": {
            "color": "#636efa",
            "pattern": {
             "shape": ""
            }
           },
           "name": "Loja 1",
           "offsetgroup": "Loja 1",
           "orientation": "h",
           "showlegend": true,
           "textposition": "auto",
           "texttemplate": "%{x}",
           "type": "bar",
           "x": [
            4100
           ],
           "xaxis": "x",
           "y": [
            "Loja 1"
           ],
           "yaxis": "y"
          },
          {
           "alignmentgroup": "True",
           "hovertemplate": "loja=%{y}<br>ano_mes=2020-02<br>acumulado=%{x}<extra></extra>",
           "legendgroup": "Loja 2",
           "marker": {
            "color": "#EF553B",
            "pattern": {
             "shape": ""
            }
           },
           "name": "Loja 2",
           "offsetgroup": "Loja 2",
           "orientation": "h",
           "showlegend": true,
           "textposition": "auto",
           "texttemplate": "%{x}",
           "type": "bar",
           "x": [
            2408
           ],
           "xaxis": "x",
           "y": [
            "Loja 2"
           ],
           "yaxis": "y"
          },
          {
           "alignmentgroup": "True",
           "hovertemplate": "loja=%{y}<br>ano_mes=2020-02<br>acumulado=%{x}<extra></extra>",
           "legendgroup": "Loja 3",
           "marker": {
            "color": "#00cc96",
            "pattern": {
             "shape": ""
            }
           },
           "name": "Loja 3",
           "offsetgroup": "Loja 3",
           "orientation": "h",
           "showlegend": true,
           "textposition": "auto",
           "texttemplate": "%{x}",
           "type": "bar",
           "x": [
            4100
           ],
           "xaxis": "x",
           "y": [
            "Loja 3"
           ],
           "yaxis": "y"
          },
          {
           "alignmentgroup": "True",
           "hovertemplate": "loja=%{y}<br>ano_mes=2020-02<br>acumulado=%{x}<extra></extra>",
           "legendgroup": "Loja 4",
           "marker": {
            "color": "#ab63fa",
            "pattern": {
             "shape": ""
            }
           },
           "name": "Loja 4",
           "offsetgroup": "Loja 4",
           "orientation": "h",
           "showlegend": true,
           "textposition": "auto",
           "texttemplate": "%{x}",
           "type": "bar",
           "x": [
            5709
           ],
           "xaxis": "x",
           "y": [
            "Loja 4"
           ],
           "yaxis": "y"
          },
          {
           "alignmentgroup": "True",
           "hovertemplate": "loja=%{y}<br>ano_mes=2020-02<br>acumulado=%{x}<extra></extra>",
           "legendgroup": "Loja 5",
           "marker": {
            "color": "#FFA15A",
            "pattern": {
             "shape": ""
            }
           },
           "name": "Loja 5",
           "offsetgroup": "Loja 5",
           "orientation": "h",
           "showlegend": true,
           "textposition": "auto",
           "texttemplate": "%{x}",
           "type": "bar",
           "x": [
            4200
           ],
           "xaxis": "x",
           "y": [
            "Loja 5"
           ],
           "yaxis": "y"
          },
          {
           "alignmentgroup": "True",
           "hovertemplate": "loja=%{y}<br>ano_mes=2020-02<br>acumulado=%{x}<extra></extra>",
           "legendgroup": "Loja 6",
           "marker": {
            "color": "#19d3f3",
            "pattern": {
             "shape": ""
            }
           },
           "name": "Loja 6",
           "offsetgroup": "Loja 6",
           "orientation": "h",
           "showlegend": true,
           "textposition": "auto",
           "texttemplate": "%{x}",
           "type": "bar",
           "x": [
            2571
           ],
           "xaxis": "x",
           "y": [
            "Loja 6"
           ],
           "yaxis": "y"
          }
         ],
         "name": "2020-02"
        },
        {
         "data": [
          {
           "alignmentgroup": "True",
           "hovertemplate": "loja=%{y}<br>ano_mes=2020-03<br>acumulado=%{x}<extra></extra>",
           "legendgroup": "Loja 1",
           "marker": {
            "color": "#636efa",
            "pattern": {
             "shape": ""
            }
           },
           "name": "Loja 1",
           "offsetgroup": "Loja 1",
           "orientation": "h",
           "showlegend": true,
           "textposition": "auto",
           "texttemplate": "%{x}",
           "type": "bar",
           "x": [
            6398
           ],
           "xaxis": "x",
           "y": [
            "Loja 1"
           ],
           "yaxis": "y"
          },
          {
           "alignmentgroup": "True",
           "hovertemplate": "loja=%{y}<br>ano_mes=2020-03<br>acumulado=%{x}<extra></extra>",
           "legendgroup": "Loja 2",
           "marker": {
            "color": "#EF553B",
            "pattern": {
             "shape": ""
            }
           },
           "name": "Loja 2",
           "offsetgroup": "Loja 2",
           "orientation": "h",
           "showlegend": true,
           "textposition": "auto",
           "texttemplate": "%{x}",
           "type": "bar",
           "x": [
            4249
           ],
           "xaxis": "x",
           "y": [
            "Loja 2"
           ],
           "yaxis": "y"
          },
          {
           "alignmentgroup": "True",
           "hovertemplate": "loja=%{y}<br>ano_mes=2020-03<br>acumulado=%{x}<extra></extra>",
           "legendgroup": "Loja 3",
           "marker": {
            "color": "#00cc96",
            "pattern": {
             "shape": ""
            }
           },
           "name": "Loja 3",
           "offsetgroup": "Loja 3",
           "orientation": "h",
           "showlegend": true,
           "textposition": "auto",
           "texttemplate": "%{x}",
           "type": "bar",
           "x": [
            6277
           ],
           "xaxis": "x",
           "y": [
            "Loja 3"
           ],
           "yaxis": "y"
          },
          {
           "alignmentgroup": "True",
           "hovertemplate": "loja=%{y}<br>ano_mes=2020-03<br>acumulado=%{x}<extra></extra>",
           "legendgroup": "Loja 4",
           "marker": {
            "color": "#ab63fa",
            "pattern": {
             "shape": ""
            }
           },
           "name": "Loja 4",
           "offsetgroup": "Loja 4",
           "orientation": "h",
           "showlegend": true,
           "textposition": "auto",
           "texttemplate": "%{x}",
           "type": "bar",
           "x": [
            8805
           ],
           "xaxis": "x",
           "y": [
            "Loja 4"
           ],
           "yaxis": "y"
          },
          {
           "alignmentgroup": "True",
           "hovertemplate": "loja=%{y}<br>ano_mes=2020-03<br>acumulado=%{x}<extra></extra>",
           "legendgroup": "Loja 5",
           "marker": {
            "color": "#FFA15A",
            "pattern": {
             "shape": ""
            }
           },
           "name": "Loja 5",
           "offsetgroup": "Loja 5",
           "orientation": "h",
           "showlegend": true,
           "textposition": "auto",
           "texttemplate": "%{x}",
           "type": "bar",
           "x": [
            6624
           ],
           "xaxis": "x",
           "y": [
            "Loja 5"
           ],
           "yaxis": "y"
          },
          {
           "alignmentgroup": "True",
           "hovertemplate": "loja=%{y}<br>ano_mes=2020-03<br>acumulado=%{x}<extra></extra>",
           "legendgroup": "Loja 6",
           "marker": {
            "color": "#19d3f3",
            "pattern": {
             "shape": ""
            }
           },
           "name": "Loja 6",
           "offsetgroup": "Loja 6",
           "orientation": "h",
           "showlegend": true,
           "textposition": "auto",
           "texttemplate": "%{x}",
           "type": "bar",
           "x": [
            4250
           ],
           "xaxis": "x",
           "y": [
            "Loja 6"
           ],
           "yaxis": "y"
          }
         ],
         "name": "2020-03"
        },
        {
         "data": [
          {
           "alignmentgroup": "True",
           "hovertemplate": "loja=%{y}<br>ano_mes=2020-04<br>acumulado=%{x}<extra></extra>",
           "legendgroup": "Loja 1",
           "marker": {
            "color": "#636efa",
            "pattern": {
             "shape": ""
            }
           },
           "name": "Loja 1",
           "offsetgroup": "Loja 1",
           "orientation": "h",
           "showlegend": true,
           "textposition": "auto",
           "texttemplate": "%{x}",
           "type": "bar",
           "x": [
            8259
           ],
           "xaxis": "x",
           "y": [
            "Loja 1"
           ],
           "yaxis": "y"
          },
          {
           "alignmentgroup": "True",
           "hovertemplate": "loja=%{y}<br>ano_mes=2020-04<br>acumulado=%{x}<extra></extra>",
           "legendgroup": "Loja 2",
           "marker": {
            "color": "#EF553B",
            "pattern": {
             "shape": ""
            }
           },
           "name": "Loja 2",
           "offsetgroup": "Loja 2",
           "orientation": "h",
           "showlegend": true,
           "textposition": "auto",
           "texttemplate": "%{x}",
           "type": "bar",
           "x": [
            5359
           ],
           "xaxis": "x",
           "y": [
            "Loja 2"
           ],
           "yaxis": "y"
          },
          {
           "alignmentgroup": "True",
           "hovertemplate": "loja=%{y}<br>ano_mes=2020-04<br>acumulado=%{x}<extra></extra>",
           "legendgroup": "Loja 3",
           "marker": {
            "color": "#00cc96",
            "pattern": {
             "shape": ""
            }
           },
           "name": "Loja 3",
           "offsetgroup": "Loja 3",
           "orientation": "h",
           "showlegend": true,
           "textposition": "auto",
           "texttemplate": "%{x}",
           "type": "bar",
           "x": [
            8337
           ],
           "xaxis": "x",
           "y": [
            "Loja 3"
           ],
           "yaxis": "y"
          },
          {
           "alignmentgroup": "True",
           "hovertemplate": "loja=%{y}<br>ano_mes=2020-04<br>acumulado=%{x}<extra></extra>",
           "legendgroup": "Loja 4",
           "marker": {
            "color": "#ab63fa",
            "pattern": {
             "shape": ""
            }
           },
           "name": "Loja 4",
           "offsetgroup": "Loja 4",
           "orientation": "h",
           "showlegend": true,
           "textposition": "auto",
           "texttemplate": "%{x}",
           "type": "bar",
           "x": [
            11867
           ],
           "xaxis": "x",
           "y": [
            "Loja 4"
           ],
           "yaxis": "y"
          },
          {
           "alignmentgroup": "True",
           "hovertemplate": "loja=%{y}<br>ano_mes=2020-04<br>acumulado=%{x}<extra></extra>",
           "legendgroup": "Loja 5",
           "marker": {
            "color": "#FFA15A",
            "pattern": {
             "shape": ""
            }
           },
           "name": "Loja 5",
           "offsetgroup": "Loja 5",
           "orientation": "h",
           "showlegend": true,
           "textposition": "auto",
           "texttemplate": "%{x}",
           "type": "bar",
           "x": [
            8675
           ],
           "xaxis": "x",
           "y": [
            "Loja 5"
           ],
           "yaxis": "y"
          },
          {
           "alignmentgroup": "True",
           "hovertemplate": "loja=%{y}<br>ano_mes=2020-04<br>acumulado=%{x}<extra></extra>",
           "legendgroup": "Loja 6",
           "marker": {
            "color": "#19d3f3",
            "pattern": {
             "shape": ""
            }
           },
           "name": "Loja 6",
           "offsetgroup": "Loja 6",
           "orientation": "h",
           "showlegend": true,
           "textposition": "auto",
           "texttemplate": "%{x}",
           "type": "bar",
           "x": [
            5436
           ],
           "xaxis": "x",
           "y": [
            "Loja 6"
           ],
           "yaxis": "y"
          }
         ],
         "name": "2020-04"
        },
        {
         "data": [
          {
           "alignmentgroup": "True",
           "hovertemplate": "loja=%{y}<br>ano_mes=2020-05<br>acumulado=%{x}<extra></extra>",
           "legendgroup": "Loja 1",
           "marker": {
            "color": "#636efa",
            "pattern": {
             "shape": ""
            }
           },
           "name": "Loja 1",
           "offsetgroup": "Loja 1",
           "orientation": "h",
           "showlegend": true,
           "textposition": "auto",
           "texttemplate": "%{x}",
           "type": "bar",
           "x": [
            10380
           ],
           "xaxis": "x",
           "y": [
            "Loja 1"
           ],
           "yaxis": "y"
          },
          {
           "alignmentgroup": "True",
           "hovertemplate": "loja=%{y}<br>ano_mes=2020-05<br>acumulado=%{x}<extra></extra>",
           "legendgroup": "Loja 2",
           "marker": {
            "color": "#EF553B",
            "pattern": {
             "shape": ""
            }
           },
           "name": "Loja 2",
           "offsetgroup": "Loja 2",
           "orientation": "h",
           "showlegend": true,
           "textposition": "auto",
           "texttemplate": "%{x}",
           "type": "bar",
           "x": [
            6849
           ],
           "xaxis": "x",
           "y": [
            "Loja 2"
           ],
           "yaxis": "y"
          },
          {
           "alignmentgroup": "True",
           "hovertemplate": "loja=%{y}<br>ano_mes=2020-05<br>acumulado=%{x}<extra></extra>",
           "legendgroup": "Loja 3",
           "marker": {
            "color": "#00cc96",
            "pattern": {
             "shape": ""
            }
           },
           "name": "Loja 3",
           "offsetgroup": "Loja 3",
           "orientation": "h",
           "showlegend": true,
           "textposition": "auto",
           "texttemplate": "%{x}",
           "type": "bar",
           "x": [
            10577
           ],
           "xaxis": "x",
           "y": [
            "Loja 3"
           ],
           "yaxis": "y"
          },
          {
           "alignmentgroup": "True",
           "hovertemplate": "loja=%{y}<br>ano_mes=2020-05<br>acumulado=%{x}<extra></extra>",
           "legendgroup": "Loja 4",
           "marker": {
            "color": "#ab63fa",
            "pattern": {
             "shape": ""
            }
           },
           "name": "Loja 4",
           "offsetgroup": "Loja 4",
           "orientation": "h",
           "showlegend": true,
           "textposition": "auto",
           "texttemplate": "%{x}",
           "type": "bar",
           "x": [
            14966
           ],
           "xaxis": "x",
           "y": [
            "Loja 4"
           ],
           "yaxis": "y"
          },
          {
           "alignmentgroup": "True",
           "hovertemplate": "loja=%{y}<br>ano_mes=2020-05<br>acumulado=%{x}<extra></extra>",
           "legendgroup": "Loja 5",
           "marker": {
            "color": "#FFA15A",
            "pattern": {
             "shape": ""
            }
           },
           "name": "Loja 5",
           "offsetgroup": "Loja 5",
           "orientation": "h",
           "showlegend": true,
           "textposition": "auto",
           "texttemplate": "%{x}",
           "type": "bar",
           "x": [
            10819
           ],
           "xaxis": "x",
           "y": [
            "Loja 5"
           ],
           "yaxis": "y"
          },
          {
           "alignmentgroup": "True",
           "hovertemplate": "loja=%{y}<br>ano_mes=2020-05<br>acumulado=%{x}<extra></extra>",
           "legendgroup": "Loja 6",
           "marker": {
            "color": "#19d3f3",
            "pattern": {
             "shape": ""
            }
           },
           "name": "Loja 6",
           "offsetgroup": "Loja 6",
           "orientation": "h",
           "showlegend": true,
           "textposition": "auto",
           "texttemplate": "%{x}",
           "type": "bar",
           "x": [
            6596
           ],
           "xaxis": "x",
           "y": [
            "Loja 6"
           ],
           "yaxis": "y"
          }
         ],
         "name": "2020-05"
        },
        {
         "data": [
          {
           "alignmentgroup": "True",
           "hovertemplate": "loja=%{y}<br>ano_mes=2020-06<br>acumulado=%{x}<extra></extra>",
           "legendgroup": "Loja 1",
           "marker": {
            "color": "#636efa",
            "pattern": {
             "shape": ""
            }
           },
           "name": "Loja 1",
           "offsetgroup": "Loja 1",
           "orientation": "h",
           "showlegend": true,
           "textposition": "auto",
           "texttemplate": "%{x}",
           "type": "bar",
           "x": [
            12720
           ],
           "xaxis": "x",
           "y": [
            "Loja 1"
           ],
           "yaxis": "y"
          },
          {
           "alignmentgroup": "True",
           "hovertemplate": "loja=%{y}<br>ano_mes=2020-06<br>acumulado=%{x}<extra></extra>",
           "legendgroup": "Loja 2",
           "marker": {
            "color": "#EF553B",
            "pattern": {
             "shape": ""
            }
           },
           "name": "Loja 2",
           "offsetgroup": "Loja 2",
           "orientation": "h",
           "showlegend": true,
           "textposition": "auto",
           "texttemplate": "%{x}",
           "type": "bar",
           "x": [
            8390
           ],
           "xaxis": "x",
           "y": [
            "Loja 2"
           ],
           "yaxis": "y"
          },
          {
           "alignmentgroup": "True",
           "hovertemplate": "loja=%{y}<br>ano_mes=2020-06<br>acumulado=%{x}<extra></extra>",
           "legendgroup": "Loja 3",
           "marker": {
            "color": "#00cc96",
            "pattern": {
             "shape": ""
            }
           },
           "name": "Loja 3",
           "offsetgroup": "Loja 3",
           "orientation": "h",
           "showlegend": true,
           "textposition": "auto",
           "texttemplate": "%{x}",
           "type": "bar",
           "x": [
            12766
           ],
           "xaxis": "x",
           "y": [
            "Loja 3"
           ],
           "yaxis": "y"
          },
          {
           "alignmentgroup": "True",
           "hovertemplate": "loja=%{y}<br>ano_mes=2020-06<br>acumulado=%{x}<extra></extra>",
           "legendgroup": "Loja 4",
           "marker": {
            "color": "#ab63fa",
            "pattern": {
             "shape": ""
            }
           },
           "name": "Loja 4",
           "offsetgroup": "Loja 4",
           "orientation": "h",
           "showlegend": true,
           "textposition": "auto",
           "texttemplate": "%{x}",
           "type": "bar",
           "x": [
            17846
           ],
           "xaxis": "x",
           "y": [
            "Loja 4"
           ],
           "yaxis": "y"
          },
          {
           "alignmentgroup": "True",
           "hovertemplate": "loja=%{y}<br>ano_mes=2020-06<br>acumulado=%{x}<extra></extra>",
           "legendgroup": "Loja 5",
           "marker": {
            "color": "#FFA15A",
            "pattern": {
             "shape": ""
            }
           },
           "name": "Loja 5",
           "offsetgroup": "Loja 5",
           "orientation": "h",
           "showlegend": true,
           "textposition": "auto",
           "texttemplate": "%{x}",
           "type": "bar",
           "x": [
            12924
           ],
           "xaxis": "x",
           "y": [
            "Loja 5"
           ],
           "yaxis": "y"
          },
          {
           "alignmentgroup": "True",
           "hovertemplate": "loja=%{y}<br>ano_mes=2020-06<br>acumulado=%{x}<extra></extra>",
           "legendgroup": "Loja 6",
           "marker": {
            "color": "#19d3f3",
            "pattern": {
             "shape": ""
            }
           },
           "name": "Loja 6",
           "offsetgroup": "Loja 6",
           "orientation": "h",
           "showlegend": true,
           "textposition": "auto",
           "texttemplate": "%{x}",
           "type": "bar",
           "x": [
            7913
           ],
           "xaxis": "x",
           "y": [
            "Loja 6"
           ],
           "yaxis": "y"
          }
         ],
         "name": "2020-06"
        },
        {
         "data": [
          {
           "alignmentgroup": "True",
           "hovertemplate": "loja=%{y}<br>ano_mes=2020-07<br>acumulado=%{x}<extra></extra>",
           "legendgroup": "Loja 1",
           "marker": {
            "color": "#636efa",
            "pattern": {
             "shape": ""
            }
           },
           "name": "Loja 1",
           "offsetgroup": "Loja 1",
           "orientation": "h",
           "showlegend": true,
           "textposition": "auto",
           "texttemplate": "%{x}",
           "type": "bar",
           "x": [
            15040
           ],
           "xaxis": "x",
           "y": [
            "Loja 1"
           ],
           "yaxis": "y"
          },
          {
           "alignmentgroup": "True",
           "hovertemplate": "loja=%{y}<br>ano_mes=2020-07<br>acumulado=%{x}<extra></extra>",
           "legendgroup": "Loja 2",
           "marker": {
            "color": "#EF553B",
            "pattern": {
             "shape": ""
            }
           },
           "name": "Loja 2",
           "offsetgroup": "Loja 2",
           "orientation": "h",
           "showlegend": true,
           "textposition": "auto",
           "texttemplate": "%{x}",
           "type": "bar",
           "x": [
            9851
           ],
           "xaxis": "x",
           "y": [
            "Loja 2"
           ],
           "yaxis": "y"
          },
          {
           "alignmentgroup": "True",
           "hovertemplate": "loja=%{y}<br>ano_mes=2020-07<br>acumulado=%{x}<extra></extra>",
           "legendgroup": "Loja 3",
           "marker": {
            "color": "#00cc96",
            "pattern": {
             "shape": ""
            }
           },
           "name": "Loja 3",
           "offsetgroup": "Loja 3",
           "orientation": "h",
           "showlegend": true,
           "textposition": "auto",
           "texttemplate": "%{x}",
           "type": "bar",
           "x": [
            14529
           ],
           "xaxis": "x",
           "y": [
            "Loja 3"
           ],
           "yaxis": "y"
          },
          {
           "alignmentgroup": "True",
           "hovertemplate": "loja=%{y}<br>ano_mes=2020-07<br>acumulado=%{x}<extra></extra>",
           "legendgroup": "Loja 4",
           "marker": {
            "color": "#ab63fa",
            "pattern": {
             "shape": ""
            }
           },
           "name": "Loja 4",
           "offsetgroup": "Loja 4",
           "orientation": "h",
           "showlegend": true,
           "textposition": "auto",
           "texttemplate": "%{x}",
           "type": "bar",
           "x": [
            20694
           ],
           "xaxis": "x",
           "y": [
            "Loja 4"
           ],
           "yaxis": "y"
          },
          {
           "alignmentgroup": "True",
           "hovertemplate": "loja=%{y}<br>ano_mes=2020-07<br>acumulado=%{x}<extra></extra>",
           "legendgroup": "Loja 5",
           "marker": {
            "color": "#FFA15A",
            "pattern": {
             "shape": ""
            }
           },
           "name": "Loja 5",
           "offsetgroup": "Loja 5",
           "orientation": "h",
           "showlegend": true,
           "textposition": "auto",
           "texttemplate": "%{x}",
           "type": "bar",
           "x": [
            14972
           ],
           "xaxis": "x",
           "y": [
            "Loja 5"
           ],
           "yaxis": "y"
          },
          {
           "alignmentgroup": "True",
           "hovertemplate": "loja=%{y}<br>ano_mes=2020-07<br>acumulado=%{x}<extra></extra>",
           "legendgroup": "Loja 6",
           "marker": {
            "color": "#19d3f3",
            "pattern": {
             "shape": ""
            }
           },
           "name": "Loja 6",
           "offsetgroup": "Loja 6",
           "orientation": "h",
           "showlegend": true,
           "textposition": "auto",
           "texttemplate": "%{x}",
           "type": "bar",
           "x": [
            10128
           ],
           "xaxis": "x",
           "y": [
            "Loja 6"
           ],
           "yaxis": "y"
          }
         ],
         "name": "2020-07"
        },
        {
         "data": [
          {
           "alignmentgroup": "True",
           "hovertemplate": "loja=%{y}<br>ano_mes=2020-08<br>acumulado=%{x}<extra></extra>",
           "legendgroup": "Loja 1",
           "marker": {
            "color": "#636efa",
            "pattern": {
             "shape": ""
            }
           },
           "name": "Loja 1",
           "offsetgroup": "Loja 1",
           "orientation": "h",
           "showlegend": true,
           "textposition": "auto",
           "texttemplate": "%{x}",
           "type": "bar",
           "x": [
            17474
           ],
           "xaxis": "x",
           "y": [
            "Loja 1"
           ],
           "yaxis": "y"
          },
          {
           "alignmentgroup": "True",
           "hovertemplate": "loja=%{y}<br>ano_mes=2020-08<br>acumulado=%{x}<extra></extra>",
           "legendgroup": "Loja 2",
           "marker": {
            "color": "#EF553B",
            "pattern": {
             "shape": ""
            }
           },
           "name": "Loja 2",
           "offsetgroup": "Loja 2",
           "orientation": "h",
           "showlegend": true,
           "textposition": "auto",
           "texttemplate": "%{x}",
           "type": "bar",
           "x": [
            11329
           ],
           "xaxis": "x",
           "y": [
            "Loja 2"
           ],
           "yaxis": "y"
          },
          {
           "alignmentgroup": "True",
           "hovertemplate": "loja=%{y}<br>ano_mes=2020-08<br>acumulado=%{x}<extra></extra>",
           "legendgroup": "Loja 3",
           "marker": {
            "color": "#00cc96",
            "pattern": {
             "shape": ""
            }
           },
           "name": "Loja 3",
           "offsetgroup": "Loja 3",
           "orientation": "h",
           "showlegend": true,
           "textposition": "auto",
           "texttemplate": "%{x}",
           "type": "bar",
           "x": [
            16020
           ],
           "xaxis": "x",
           "y": [
            "Loja 3"
           ],
           "yaxis": "y"
          },
          {
           "alignmentgroup": "True",
           "hovertemplate": "loja=%{y}<br>ano_mes=2020-08<br>acumulado=%{x}<extra></extra>",
           "legendgroup": "Loja 4",
           "marker": {
            "color": "#ab63fa",
            "pattern": {
             "shape": ""
            }
           },
           "name": "Loja 4",
           "offsetgroup": "Loja 4",
           "orientation": "h",
           "showlegend": true,
           "textposition": "auto",
           "texttemplate": "%{x}",
           "type": "bar",
           "x": [
            23674
           ],
           "xaxis": "x",
           "y": [
            "Loja 4"
           ],
           "yaxis": "y"
          },
          {
           "alignmentgroup": "True",
           "hovertemplate": "loja=%{y}<br>ano_mes=2020-08<br>acumulado=%{x}<extra></extra>",
           "legendgroup": "Loja 5",
           "marker": {
            "color": "#FFA15A",
            "pattern": {
             "shape": ""
            }
           },
           "name": "Loja 5",
           "offsetgroup": "Loja 5",
           "orientation": "h",
           "showlegend": true,
           "textposition": "auto",
           "texttemplate": "%{x}",
           "type": "bar",
           "x": [
            16771
           ],
           "xaxis": "x",
           "y": [
            "Loja 5"
           ],
           "yaxis": "y"
          },
          {
           "alignmentgroup": "True",
           "hovertemplate": "loja=%{y}<br>ano_mes=2020-08<br>acumulado=%{x}<extra></extra>",
           "legendgroup": "Loja 6",
           "marker": {
            "color": "#19d3f3",
            "pattern": {
             "shape": ""
            }
           },
           "name": "Loja 6",
           "offsetgroup": "Loja 6",
           "orientation": "h",
           "showlegend": true,
           "textposition": "auto",
           "texttemplate": "%{x}",
           "type": "bar",
           "x": [
            11928
           ],
           "xaxis": "x",
           "y": [
            "Loja 6"
           ],
           "yaxis": "y"
          }
         ],
         "name": "2020-08"
        },
        {
         "data": [
          {
           "alignmentgroup": "True",
           "hovertemplate": "loja=%{y}<br>ano_mes=2020-09<br>acumulado=%{x}<extra></extra>",
           "legendgroup": "Loja 1",
           "marker": {
            "color": "#636efa",
            "pattern": {
             "shape": ""
            }
           },
           "name": "Loja 1",
           "offsetgroup": "Loja 1",
           "orientation": "h",
           "showlegend": true,
           "textposition": "auto",
           "texttemplate": "%{x}",
           "type": "bar",
           "x": [
            19586
           ],
           "xaxis": "x",
           "y": [
            "Loja 1"
           ],
           "yaxis": "y"
          },
          {
           "alignmentgroup": "True",
           "hovertemplate": "loja=%{y}<br>ano_mes=2020-09<br>acumulado=%{x}<extra></extra>",
           "legendgroup": "Loja 2",
           "marker": {
            "color": "#EF553B",
            "pattern": {
             "shape": ""
            }
           },
           "name": "Loja 2",
           "offsetgroup": "Loja 2",
           "orientation": "h",
           "showlegend": true,
           "textposition": "auto",
           "texttemplate": "%{x}",
           "type": "bar",
           "x": [
            12787
           ],
           "xaxis": "x",
           "y": [
            "Loja 2"
           ],
           "yaxis": "y"
          },
          {
           "alignmentgroup": "True",
           "hovertemplate": "loja=%{y}<br>ano_mes=2020-09<br>acumulado=%{x}<extra></extra>",
           "legendgroup": "Loja 3",
           "marker": {
            "color": "#00cc96",
            "pattern": {
             "shape": ""
            }
           },
           "name": "Loja 3",
           "offsetgroup": "Loja 3",
           "orientation": "h",
           "showlegend": true,
           "textposition": "auto",
           "texttemplate": "%{x}",
           "type": "bar",
           "x": [
            17940
           ],
           "xaxis": "x",
           "y": [
            "Loja 3"
           ],
           "yaxis": "y"
          },
          {
           "alignmentgroup": "True",
           "hovertemplate": "loja=%{y}<br>ano_mes=2020-09<br>acumulado=%{x}<extra></extra>",
           "legendgroup": "Loja 4",
           "marker": {
            "color": "#ab63fa",
            "pattern": {
             "shape": ""
            }
           },
           "name": "Loja 4",
           "offsetgroup": "Loja 4",
           "orientation": "h",
           "showlegend": true,
           "textposition": "auto",
           "texttemplate": "%{x}",
           "type": "bar",
           "x": [
            26167
           ],
           "xaxis": "x",
           "y": [
            "Loja 4"
           ],
           "yaxis": "y"
          },
          {
           "alignmentgroup": "True",
           "hovertemplate": "loja=%{y}<br>ano_mes=2020-09<br>acumulado=%{x}<extra></extra>",
           "legendgroup": "Loja 5",
           "marker": {
            "color": "#FFA15A",
            "pattern": {
             "shape": ""
            }
           },
           "name": "Loja 5",
           "offsetgroup": "Loja 5",
           "orientation": "h",
           "showlegend": true,
           "textposition": "auto",
           "texttemplate": "%{x}",
           "type": "bar",
           "x": [
            18812
           ],
           "xaxis": "x",
           "y": [
            "Loja 5"
           ],
           "yaxis": "y"
          },
          {
           "alignmentgroup": "True",
           "hovertemplate": "loja=%{y}<br>ano_mes=2020-09<br>acumulado=%{x}<extra></extra>",
           "legendgroup": "Loja 6",
           "marker": {
            "color": "#19d3f3",
            "pattern": {
             "shape": ""
            }
           },
           "name": "Loja 6",
           "offsetgroup": "Loja 6",
           "orientation": "h",
           "showlegend": true,
           "textposition": "auto",
           "texttemplate": "%{x}",
           "type": "bar",
           "x": [
            13351
           ],
           "xaxis": "x",
           "y": [
            "Loja 6"
           ],
           "yaxis": "y"
          }
         ],
         "name": "2020-09"
        },
        {
         "data": [
          {
           "alignmentgroup": "True",
           "hovertemplate": "loja=%{y}<br>ano_mes=2020-10<br>acumulado=%{x}<extra></extra>",
           "legendgroup": "Loja 1",
           "marker": {
            "color": "#636efa",
            "pattern": {
             "shape": ""
            }
           },
           "name": "Loja 1",
           "offsetgroup": "Loja 1",
           "orientation": "h",
           "showlegend": true,
           "textposition": "auto",
           "texttemplate": "%{x}",
           "type": "bar",
           "x": [
            22064
           ],
           "xaxis": "x",
           "y": [
            "Loja 1"
           ],
           "yaxis": "y"
          },
          {
           "alignmentgroup": "True",
           "hovertemplate": "loja=%{y}<br>ano_mes=2020-10<br>acumulado=%{x}<extra></extra>",
           "legendgroup": "Loja 2",
           "marker": {
            "color": "#EF553B",
            "pattern": {
             "shape": ""
            }
           },
           "name": "Loja 2",
           "offsetgroup": "Loja 2",
           "orientation": "h",
           "showlegend": true,
           "textposition": "auto",
           "texttemplate": "%{x}",
           "type": "bar",
           "x": [
            14076
           ],
           "xaxis": "x",
           "y": [
            "Loja 2"
           ],
           "yaxis": "y"
          },
          {
           "alignmentgroup": "True",
           "hovertemplate": "loja=%{y}<br>ano_mes=2020-10<br>acumulado=%{x}<extra></extra>",
           "legendgroup": "Loja 3",
           "marker": {
            "color": "#00cc96",
            "pattern": {
             "shape": ""
            }
           },
           "name": "Loja 3",
           "offsetgroup": "Loja 3",
           "orientation": "h",
           "showlegend": true,
           "textposition": "auto",
           "texttemplate": "%{x}",
           "type": "bar",
           "x": [
            20295
           ],
           "xaxis": "x",
           "y": [
            "Loja 3"
           ],
           "yaxis": "y"
          },
          {
           "alignmentgroup": "True",
           "hovertemplate": "loja=%{y}<br>ano_mes=2020-10<br>acumulado=%{x}<extra></extra>",
           "legendgroup": "Loja 4",
           "marker": {
            "color": "#ab63fa",
            "pattern": {
             "shape": ""
            }
           },
           "name": "Loja 4",
           "offsetgroup": "Loja 4",
           "orientation": "h",
           "showlegend": true,
           "textposition": "auto",
           "texttemplate": "%{x}",
           "type": "bar",
           "x": [
            29810
           ],
           "xaxis": "x",
           "y": [
            "Loja 4"
           ],
           "yaxis": "y"
          },
          {
           "alignmentgroup": "True",
           "hovertemplate": "loja=%{y}<br>ano_mes=2020-10<br>acumulado=%{x}<extra></extra>",
           "legendgroup": "Loja 5",
           "marker": {
            "color": "#FFA15A",
            "pattern": {
             "shape": ""
            }
           },
           "name": "Loja 5",
           "offsetgroup": "Loja 5",
           "orientation": "h",
           "showlegend": true,
           "textposition": "auto",
           "texttemplate": "%{x}",
           "type": "bar",
           "x": [
            21135
           ],
           "xaxis": "x",
           "y": [
            "Loja 5"
           ],
           "yaxis": "y"
          },
          {
           "alignmentgroup": "True",
           "hovertemplate": "loja=%{y}<br>ano_mes=2020-10<br>acumulado=%{x}<extra></extra>",
           "legendgroup": "Loja 6",
           "marker": {
            "color": "#19d3f3",
            "pattern": {
             "shape": ""
            }
           },
           "name": "Loja 6",
           "offsetgroup": "Loja 6",
           "orientation": "h",
           "showlegend": true,
           "textposition": "auto",
           "texttemplate": "%{x}",
           "type": "bar",
           "x": [
            14455
           ],
           "xaxis": "x",
           "y": [
            "Loja 6"
           ],
           "yaxis": "y"
          }
         ],
         "name": "2020-10"
        },
        {
         "data": [
          {
           "alignmentgroup": "True",
           "hovertemplate": "loja=%{y}<br>ano_mes=2020-11<br>acumulado=%{x}<extra></extra>",
           "legendgroup": "Loja 1",
           "marker": {
            "color": "#636efa",
            "pattern": {
             "shape": ""
            }
           },
           "name": "Loja 1",
           "offsetgroup": "Loja 1",
           "orientation": "h",
           "showlegend": true,
           "textposition": "auto",
           "texttemplate": "%{x}",
           "type": "bar",
           "x": [
            24206
           ],
           "xaxis": "x",
           "y": [
            "Loja 1"
           ],
           "yaxis": "y"
          },
          {
           "alignmentgroup": "True",
           "hovertemplate": "loja=%{y}<br>ano_mes=2020-11<br>acumulado=%{x}<extra></extra>",
           "legendgroup": "Loja 2",
           "marker": {
            "color": "#EF553B",
            "pattern": {
             "shape": ""
            }
           },
           "name": "Loja 2",
           "offsetgroup": "Loja 2",
           "orientation": "h",
           "showlegend": true,
           "textposition": "auto",
           "texttemplate": "%{x}",
           "type": "bar",
           "x": [
            15525
           ],
           "xaxis": "x",
           "y": [
            "Loja 2"
           ],
           "yaxis": "y"
          },
          {
           "alignmentgroup": "True",
           "hovertemplate": "loja=%{y}<br>ano_mes=2020-11<br>acumulado=%{x}<extra></extra>",
           "legendgroup": "Loja 3",
           "marker": {
            "color": "#00cc96",
            "pattern": {
             "shape": ""
            }
           },
           "name": "Loja 3",
           "offsetgroup": "Loja 3",
           "orientation": "h",
           "showlegend": true,
           "textposition": "auto",
           "texttemplate": "%{x}",
           "type": "bar",
           "x": [
            22301
           ],
           "xaxis": "x",
           "y": [
            "Loja 3"
           ],
           "yaxis": "y"
          },
          {
           "alignmentgroup": "True",
           "hovertemplate": "loja=%{y}<br>ano_mes=2020-11<br>acumulado=%{x}<extra></extra>",
           "legendgroup": "Loja 4",
           "marker": {
            "color": "#ab63fa",
            "pattern": {
             "shape": ""
            }
           },
           "name": "Loja 4",
           "offsetgroup": "Loja 4",
           "orientation": "h",
           "showlegend": true,
           "textposition": "auto",
           "texttemplate": "%{x}",
           "type": "bar",
           "x": [
            32470
           ],
           "xaxis": "x",
           "y": [
            "Loja 4"
           ],
           "yaxis": "y"
          },
          {
           "alignmentgroup": "True",
           "hovertemplate": "loja=%{y}<br>ano_mes=2020-11<br>acumulado=%{x}<extra></extra>",
           "legendgroup": "Loja 5",
           "marker": {
            "color": "#FFA15A",
            "pattern": {
             "shape": ""
            }
           },
           "name": "Loja 5",
           "offsetgroup": "Loja 5",
           "orientation": "h",
           "showlegend": true,
           "textposition": "auto",
           "texttemplate": "%{x}",
           "type": "bar",
           "x": [
            23223
           ],
           "xaxis": "x",
           "y": [
            "Loja 5"
           ],
           "yaxis": "y"
          },
          {
           "alignmentgroup": "True",
           "hovertemplate": "loja=%{y}<br>ano_mes=2020-11<br>acumulado=%{x}<extra></extra>",
           "legendgroup": "Loja 6",
           "marker": {
            "color": "#19d3f3",
            "pattern": {
             "shape": ""
            }
           },
           "name": "Loja 6",
           "offsetgroup": "Loja 6",
           "orientation": "h",
           "showlegend": true,
           "textposition": "auto",
           "texttemplate": "%{x}",
           "type": "bar",
           "x": [
            16060
           ],
           "xaxis": "x",
           "y": [
            "Loja 6"
           ],
           "yaxis": "y"
          }
         ],
         "name": "2020-11"
        },
        {
         "data": [
          {
           "alignmentgroup": "True",
           "hovertemplate": "loja=%{y}<br>ano_mes=2020-12<br>acumulado=%{x}<extra></extra>",
           "legendgroup": "Loja 1",
           "marker": {
            "color": "#636efa",
            "pattern": {
             "shape": ""
            }
           },
           "name": "Loja 1",
           "offsetgroup": "Loja 1",
           "orientation": "h",
           "showlegend": true,
           "textposition": "auto",
           "texttemplate": "%{x}",
           "type": "bar",
           "x": [
            26280
           ],
           "xaxis": "x",
           "y": [
            "Loja 1"
           ],
           "yaxis": "y"
          },
          {
           "alignmentgroup": "True",
           "hovertemplate": "loja=%{y}<br>ano_mes=2020-12<br>acumulado=%{x}<extra></extra>",
           "legendgroup": "Loja 2",
           "marker": {
            "color": "#EF553B",
            "pattern": {
             "shape": ""
            }
           },
           "name": "Loja 2",
           "offsetgroup": "Loja 2",
           "orientation": "h",
           "showlegend": true,
           "textposition": "auto",
           "texttemplate": "%{x}",
           "type": "bar",
           "x": [
            16936
           ],
           "xaxis": "x",
           "y": [
            "Loja 2"
           ],
           "yaxis": "y"
          },
          {
           "alignmentgroup": "True",
           "hovertemplate": "loja=%{y}<br>ano_mes=2020-12<br>acumulado=%{x}<extra></extra>",
           "legendgroup": "Loja 3",
           "marker": {
            "color": "#00cc96",
            "pattern": {
             "shape": ""
            }
           },
           "name": "Loja 3",
           "offsetgroup": "Loja 3",
           "orientation": "h",
           "showlegend": true,
           "textposition": "auto",
           "texttemplate": "%{x}",
           "type": "bar",
           "x": [
            24583
           ],
           "xaxis": "x",
           "y": [
            "Loja 3"
           ],
           "yaxis": "y"
          },
          {
           "alignmentgroup": "True",
           "hovertemplate": "loja=%{y}<br>ano_mes=2020-12<br>acumulado=%{x}<extra></extra>",
           "legendgroup": "Loja 4",
           "marker": {
            "color": "#ab63fa",
            "pattern": {
             "shape": ""
            }
           },
           "name": "Loja 4",
           "offsetgroup": "Loja 4",
           "orientation": "h",
           "showlegend": true,
           "textposition": "auto",
           "texttemplate": "%{x}",
           "type": "bar",
           "x": [
            36772
           ],
           "xaxis": "x",
           "y": [
            "Loja 4"
           ],
           "yaxis": "y"
          },
          {
           "alignmentgroup": "True",
           "hovertemplate": "loja=%{y}<br>ano_mes=2020-12<br>acumulado=%{x}<extra></extra>",
           "legendgroup": "Loja 5",
           "marker": {
            "color": "#FFA15A",
            "pattern": {
             "shape": ""
            }
           },
           "name": "Loja 5",
           "offsetgroup": "Loja 5",
           "orientation": "h",
           "showlegend": true,
           "textposition": "auto",
           "texttemplate": "%{x}",
           "type": "bar",
           "x": [
            25273
           ],
           "xaxis": "x",
           "y": [
            "Loja 5"
           ],
           "yaxis": "y"
          },
          {
           "alignmentgroup": "True",
           "hovertemplate": "loja=%{y}<br>ano_mes=2020-12<br>acumulado=%{x}<extra></extra>",
           "legendgroup": "Loja 6",
           "marker": {
            "color": "#19d3f3",
            "pattern": {
             "shape": ""
            }
           },
           "name": "Loja 6",
           "offsetgroup": "Loja 6",
           "orientation": "h",
           "showlegend": true,
           "textposition": "auto",
           "texttemplate": "%{x}",
           "type": "bar",
           "x": [
            16225
           ],
           "xaxis": "x",
           "y": [
            "Loja 6"
           ],
           "yaxis": "y"
          }
         ],
         "name": "2020-12"
        },
        {
         "data": [
          {
           "alignmentgroup": "True",
           "hovertemplate": "loja=%{y}<br>ano_mes=2021-01<br>acumulado=%{x}<extra></extra>",
           "legendgroup": "Loja 1",
           "marker": {
            "color": "#636efa",
            "pattern": {
             "shape": ""
            }
           },
           "name": "Loja 1",
           "offsetgroup": "Loja 1",
           "orientation": "h",
           "showlegend": true,
           "textposition": "auto",
           "texttemplate": "%{x}",
           "type": "bar",
           "x": [
            28255
           ],
           "xaxis": "x",
           "y": [
            "Loja 1"
           ],
           "yaxis": "y"
          },
          {
           "alignmentgroup": "True",
           "hovertemplate": "loja=%{y}<br>ano_mes=2021-01<br>acumulado=%{x}<extra></extra>",
           "legendgroup": "Loja 2",
           "marker": {
            "color": "#EF553B",
            "pattern": {
             "shape": ""
            }
           },
           "name": "Loja 2",
           "offsetgroup": "Loja 2",
           "orientation": "h",
           "showlegend": true,
           "textposition": "auto",
           "texttemplate": "%{x}",
           "type": "bar",
           "x": [
            18452
           ],
           "xaxis": "x",
           "y": [
            "Loja 2"
           ],
           "yaxis": "y"
          },
          {
           "alignmentgroup": "True",
           "hovertemplate": "loja=%{y}<br>ano_mes=2021-01<br>acumulado=%{x}<extra></extra>",
           "legendgroup": "Loja 3",
           "marker": {
            "color": "#00cc96",
            "pattern": {
             "shape": ""
            }
           },
           "name": "Loja 3",
           "offsetgroup": "Loja 3",
           "orientation": "h",
           "showlegend": true,
           "textposition": "auto",
           "texttemplate": "%{x}",
           "type": "bar",
           "x": [
            26702
           ],
           "xaxis": "x",
           "y": [
            "Loja 3"
           ],
           "yaxis": "y"
          },
          {
           "alignmentgroup": "True",
           "hovertemplate": "loja=%{y}<br>ano_mes=2021-01<br>acumulado=%{x}<extra></extra>",
           "legendgroup": "Loja 4",
           "marker": {
            "color": "#ab63fa",
            "pattern": {
             "shape": ""
            }
           },
           "name": "Loja 4",
           "offsetgroup": "Loja 4",
           "orientation": "h",
           "showlegend": true,
           "textposition": "auto",
           "texttemplate": "%{x}",
           "type": "bar",
           "x": [
            40231
           ],
           "xaxis": "x",
           "y": [
            "Loja 4"
           ],
           "yaxis": "y"
          },
          {
           "alignmentgroup": "True",
           "hovertemplate": "loja=%{y}<br>ano_mes=2021-01<br>acumulado=%{x}<extra></extra>",
           "legendgroup": "Loja 5",
           "marker": {
            "color": "#FFA15A",
            "pattern": {
             "shape": ""
            }
           },
           "name": "Loja 5",
           "offsetgroup": "Loja 5",
           "orientation": "h",
           "showlegend": true,
           "textposition": "auto",
           "texttemplate": "%{x}",
           "type": "bar",
           "x": [
            27569
           ],
           "xaxis": "x",
           "y": [
            "Loja 5"
           ],
           "yaxis": "y"
          },
          {
           "alignmentgroup": "True",
           "hovertemplate": "loja=%{y}<br>ano_mes=2021-01<br>acumulado=%{x}<extra></extra>",
           "legendgroup": "Loja 6",
           "marker": {
            "color": "#19d3f3",
            "pattern": {
             "shape": ""
            }
           },
           "name": "Loja 6",
           "offsetgroup": "Loja 6",
           "orientation": "h",
           "showlegend": true,
           "textposition": "auto",
           "texttemplate": "%{x}",
           "type": "bar",
           "x": [
            17031
           ],
           "xaxis": "x",
           "y": [
            "Loja 6"
           ],
           "yaxis": "y"
          }
         ],
         "name": "2021-01"
        },
        {
         "data": [
          {
           "alignmentgroup": "True",
           "hovertemplate": "loja=%{y}<br>ano_mes=2021-02<br>acumulado=%{x}<extra></extra>",
           "legendgroup": "Loja 1",
           "marker": {
            "color": "#636efa",
            "pattern": {
             "shape": ""
            }
           },
           "name": "Loja 1",
           "offsetgroup": "Loja 1",
           "orientation": "h",
           "showlegend": true,
           "textposition": "auto",
           "texttemplate": "%{x}",
           "type": "bar",
           "x": [
            30106
           ],
           "xaxis": "x",
           "y": [
            "Loja 1"
           ],
           "yaxis": "y"
          },
          {
           "alignmentgroup": "True",
           "hovertemplate": "loja=%{y}<br>ano_mes=2021-02<br>acumulado=%{x}<extra></extra>",
           "legendgroup": "Loja 2",
           "marker": {
            "color": "#EF553B",
            "pattern": {
             "shape": ""
            }
           },
           "name": "Loja 2",
           "offsetgroup": "Loja 2",
           "orientation": "h",
           "showlegend": true,
           "textposition": "auto",
           "texttemplate": "%{x}",
           "type": "bar",
           "x": [
            19794
           ],
           "xaxis": "x",
           "y": [
            "Loja 2"
           ],
           "yaxis": "y"
          },
          {
           "alignmentgroup": "True",
           "hovertemplate": "loja=%{y}<br>ano_mes=2021-02<br>acumulado=%{x}<extra></extra>",
           "legendgroup": "Loja 3",
           "marker": {
            "color": "#00cc96",
            "pattern": {
             "shape": ""
            }
           },
           "name": "Loja 3",
           "offsetgroup": "Loja 3",
           "orientation": "h",
           "showlegend": true,
           "textposition": "auto",
           "texttemplate": "%{x}",
           "type": "bar",
           "x": [
            28601
           ],
           "xaxis": "x",
           "y": [
            "Loja 3"
           ],
           "yaxis": "y"
          },
          {
           "alignmentgroup": "True",
           "hovertemplate": "loja=%{y}<br>ano_mes=2021-02<br>acumulado=%{x}<extra></extra>",
           "legendgroup": "Loja 4",
           "marker": {
            "color": "#ab63fa",
            "pattern": {
             "shape": ""
            }
           },
           "name": "Loja 4",
           "offsetgroup": "Loja 4",
           "orientation": "h",
           "showlegend": true,
           "textposition": "auto",
           "texttemplate": "%{x}",
           "type": "bar",
           "x": [
            43749
           ],
           "xaxis": "x",
           "y": [
            "Loja 4"
           ],
           "yaxis": "y"
          },
          {
           "alignmentgroup": "True",
           "hovertemplate": "loja=%{y}<br>ano_mes=2021-02<br>acumulado=%{x}<extra></extra>",
           "legendgroup": "Loja 5",
           "marker": {
            "color": "#FFA15A",
            "pattern": {
             "shape": ""
            }
           },
           "name": "Loja 5",
           "offsetgroup": "Loja 5",
           "orientation": "h",
           "showlegend": true,
           "textposition": "auto",
           "texttemplate": "%{x}",
           "type": "bar",
           "x": [
            29509
           ],
           "xaxis": "x",
           "y": [
            "Loja 5"
           ],
           "yaxis": "y"
          },
          {
           "alignmentgroup": "True",
           "hovertemplate": "loja=%{y}<br>ano_mes=2021-02<br>acumulado=%{x}<extra></extra>",
           "legendgroup": "Loja 6",
           "marker": {
            "color": "#19d3f3",
            "pattern": {
             "shape": ""
            }
           },
           "name": "Loja 6",
           "offsetgroup": "Loja 6",
           "orientation": "h",
           "showlegend": true,
           "textposition": "auto",
           "texttemplate": "%{x}",
           "type": "bar",
           "x": [
            17423
           ],
           "xaxis": "x",
           "y": [
            "Loja 6"
           ],
           "yaxis": "y"
          }
         ],
         "name": "2021-02"
        },
        {
         "data": [
          {
           "alignmentgroup": "True",
           "hovertemplate": "loja=%{y}<br>ano_mes=2021-03<br>acumulado=%{x}<extra></extra>",
           "legendgroup": "Loja 1",
           "marker": {
            "color": "#636efa",
            "pattern": {
             "shape": ""
            }
           },
           "name": "Loja 1",
           "offsetgroup": "Loja 1",
           "orientation": "h",
           "showlegend": true,
           "textposition": "auto",
           "texttemplate": "%{x}",
           "type": "bar",
           "x": [
            32318
           ],
           "xaxis": "x",
           "y": [
            "Loja 1"
           ],
           "yaxis": "y"
          },
          {
           "alignmentgroup": "True",
           "hovertemplate": "loja=%{y}<br>ano_mes=2021-03<br>acumulado=%{x}<extra></extra>",
           "legendgroup": "Loja 2",
           "marker": {
            "color": "#EF553B",
            "pattern": {
             "shape": ""
            }
           },
           "name": "Loja 2",
           "offsetgroup": "Loja 2",
           "orientation": "h",
           "showlegend": true,
           "textposition": "auto",
           "texttemplate": "%{x}",
           "type": "bar",
           "x": [
            21326
           ],
           "xaxis": "x",
           "y": [
            "Loja 2"
           ],
           "yaxis": "y"
          },
          {
           "alignmentgroup": "True",
           "hovertemplate": "loja=%{y}<br>ano_mes=2021-03<br>acumulado=%{x}<extra></extra>",
           "legendgroup": "Loja 3",
           "marker": {
            "color": "#00cc96",
            "pattern": {
             "shape": ""
            }
           },
           "name": "Loja 3",
           "offsetgroup": "Loja 3",
           "orientation": "h",
           "showlegend": true,
           "textposition": "auto",
           "texttemplate": "%{x}",
           "type": "bar",
           "x": [
            30934
           ],
           "xaxis": "x",
           "y": [
            "Loja 3"
           ],
           "yaxis": "y"
          },
          {
           "alignmentgroup": "True",
           "hovertemplate": "loja=%{y}<br>ano_mes=2021-03<br>acumulado=%{x}<extra></extra>",
           "legendgroup": "Loja 4",
           "marker": {
            "color": "#ab63fa",
            "pattern": {
             "shape": ""
            }
           },
           "name": "Loja 4",
           "offsetgroup": "Loja 4",
           "orientation": "h",
           "showlegend": true,
           "textposition": "auto",
           "texttemplate": "%{x}",
           "type": "bar",
           "x": [
            47170
           ],
           "xaxis": "x",
           "y": [
            "Loja 4"
           ],
           "yaxis": "y"
          },
          {
           "alignmentgroup": "True",
           "hovertemplate": "loja=%{y}<br>ano_mes=2021-03<br>acumulado=%{x}<extra></extra>",
           "legendgroup": "Loja 5",
           "marker": {
            "color": "#FFA15A",
            "pattern": {
             "shape": ""
            }
           },
           "name": "Loja 5",
           "offsetgroup": "Loja 5",
           "orientation": "h",
           "showlegend": true,
           "textposition": "auto",
           "texttemplate": "%{x}",
           "type": "bar",
           "x": [
            31986
           ],
           "xaxis": "x",
           "y": [
            "Loja 5"
           ],
           "yaxis": "y"
          },
          {
           "alignmentgroup": "True",
           "hovertemplate": "loja=%{y}<br>ano_mes=2021-03<br>acumulado=%{x}<extra></extra>",
           "legendgroup": "Loja 6",
           "marker": {
            "color": "#19d3f3",
            "pattern": {
             "shape": ""
            }
           },
           "name": "Loja 6",
           "offsetgroup": "Loja 6",
           "orientation": "h",
           "showlegend": true,
           "textposition": "auto",
           "texttemplate": "%{x}",
           "type": "bar",
           "x": [
            18794
           ],
           "xaxis": "x",
           "y": [
            "Loja 6"
           ],
           "yaxis": "y"
          }
         ],
         "name": "2021-03"
        },
        {
         "data": [
          {
           "alignmentgroup": "True",
           "hovertemplate": "loja=%{y}<br>ano_mes=2021-04<br>acumulado=%{x}<extra></extra>",
           "legendgroup": "Loja 1",
           "marker": {
            "color": "#636efa",
            "pattern": {
             "shape": ""
            }
           },
           "name": "Loja 1",
           "offsetgroup": "Loja 1",
           "orientation": "h",
           "showlegend": true,
           "textposition": "auto",
           "texttemplate": "%{x}",
           "type": "bar",
           "x": [
            34239
           ],
           "xaxis": "x",
           "y": [
            "Loja 1"
           ],
           "yaxis": "y"
          },
          {
           "alignmentgroup": "True",
           "hovertemplate": "loja=%{y}<br>ano_mes=2021-04<br>acumulado=%{x}<extra></extra>",
           "legendgroup": "Loja 2",
           "marker": {
            "color": "#EF553B",
            "pattern": {
             "shape": ""
            }
           },
           "name": "Loja 2",
           "offsetgroup": "Loja 2",
           "orientation": "h",
           "showlegend": true,
           "textposition": "auto",
           "texttemplate": "%{x}",
           "type": "bar",
           "x": [
            22662
           ],
           "xaxis": "x",
           "y": [
            "Loja 2"
           ],
           "yaxis": "y"
          },
          {
           "alignmentgroup": "True",
           "hovertemplate": "loja=%{y}<br>ano_mes=2021-04<br>acumulado=%{x}<extra></extra>",
           "legendgroup": "Loja 3",
           "marker": {
            "color": "#00cc96",
            "pattern": {
             "shape": ""
            }
           },
           "name": "Loja 3",
           "offsetgroup": "Loja 3",
           "orientation": "h",
           "showlegend": true,
           "textposition": "auto",
           "texttemplate": "%{x}",
           "type": "bar",
           "x": [
            32761
           ],
           "xaxis": "x",
           "y": [
            "Loja 3"
           ],
           "yaxis": "y"
          },
          {
           "alignmentgroup": "True",
           "hovertemplate": "loja=%{y}<br>ano_mes=2021-04<br>acumulado=%{x}<extra></extra>",
           "legendgroup": "Loja 4",
           "marker": {
            "color": "#ab63fa",
            "pattern": {
             "shape": ""
            }
           },
           "name": "Loja 4",
           "offsetgroup": "Loja 4",
           "orientation": "h",
           "showlegend": true,
           "textposition": "auto",
           "texttemplate": "%{x}",
           "type": "bar",
           "x": [
            50065
           ],
           "xaxis": "x",
           "y": [
            "Loja 4"
           ],
           "yaxis": "y"
          },
          {
           "alignmentgroup": "True",
           "hovertemplate": "loja=%{y}<br>ano_mes=2021-04<br>acumulado=%{x}<extra></extra>",
           "legendgroup": "Loja 5",
           "marker": {
            "color": "#FFA15A",
            "pattern": {
             "shape": ""
            }
           },
           "name": "Loja 5",
           "offsetgroup": "Loja 5",
           "orientation": "h",
           "showlegend": true,
           "textposition": "auto",
           "texttemplate": "%{x}",
           "type": "bar",
           "x": [
            34020
           ],
           "xaxis": "x",
           "y": [
            "Loja 5"
           ],
           "yaxis": "y"
          },
          {
           "alignmentgroup": "True",
           "hovertemplate": "loja=%{y}<br>ano_mes=2021-04<br>acumulado=%{x}<extra></extra>",
           "legendgroup": "Loja 6",
           "marker": {
            "color": "#19d3f3",
            "pattern": {
             "shape": ""
            }
           },
           "name": "Loja 6",
           "offsetgroup": "Loja 6",
           "orientation": "h",
           "showlegend": true,
           "textposition": "auto",
           "texttemplate": "%{x}",
           "type": "bar",
           "x": [
            20049
           ],
           "xaxis": "x",
           "y": [
            "Loja 6"
           ],
           "yaxis": "y"
          }
         ],
         "name": "2021-04"
        },
        {
         "data": [
          {
           "alignmentgroup": "True",
           "hovertemplate": "loja=%{y}<br>ano_mes=2021-05<br>acumulado=%{x}<extra></extra>",
           "legendgroup": "Loja 1",
           "marker": {
            "color": "#636efa",
            "pattern": {
             "shape": ""
            }
           },
           "name": "Loja 1",
           "offsetgroup": "Loja 1",
           "orientation": "h",
           "showlegend": true,
           "textposition": "auto",
           "texttemplate": "%{x}",
           "type": "bar",
           "x": [
            36252
           ],
           "xaxis": "x",
           "y": [
            "Loja 1"
           ],
           "yaxis": "y"
          },
          {
           "alignmentgroup": "True",
           "hovertemplate": "loja=%{y}<br>ano_mes=2021-05<br>acumulado=%{x}<extra></extra>",
           "legendgroup": "Loja 2",
           "marker": {
            "color": "#EF553B",
            "pattern": {
             "shape": ""
            }
           },
           "name": "Loja 2",
           "offsetgroup": "Loja 2",
           "orientation": "h",
           "showlegend": true,
           "textposition": "auto",
           "texttemplate": "%{x}",
           "type": "bar",
           "x": [
            24319
           ],
           "xaxis": "x",
           "y": [
            "Loja 2"
           ],
           "yaxis": "y"
          },
          {
           "alignmentgroup": "True",
           "hovertemplate": "loja=%{y}<br>ano_mes=2021-05<br>acumulado=%{x}<extra></extra>",
           "legendgroup": "Loja 3",
           "marker": {
            "color": "#00cc96",
            "pattern": {
             "shape": ""
            }
           },
           "name": "Loja 3",
           "offsetgroup": "Loja 3",
           "orientation": "h",
           "showlegend": true,
           "textposition": "auto",
           "texttemplate": "%{x}",
           "type": "bar",
           "x": [
            35123
           ],
           "xaxis": "x",
           "y": [
            "Loja 3"
           ],
           "yaxis": "y"
          },
          {
           "alignmentgroup": "True",
           "hovertemplate": "loja=%{y}<br>ano_mes=2021-05<br>acumulado=%{x}<extra></extra>",
           "legendgroup": "Loja 4",
           "marker": {
            "color": "#ab63fa",
            "pattern": {
             "shape": ""
            }
           },
           "name": "Loja 4",
           "offsetgroup": "Loja 4",
           "orientation": "h",
           "showlegend": true,
           "textposition": "auto",
           "texttemplate": "%{x}",
           "type": "bar",
           "x": [
            51651
           ],
           "xaxis": "x",
           "y": [
            "Loja 4"
           ],
           "yaxis": "y"
          },
          {
           "alignmentgroup": "True",
           "hovertemplate": "loja=%{y}<br>ano_mes=2021-05<br>acumulado=%{x}<extra></extra>",
           "legendgroup": "Loja 5",
           "marker": {
            "color": "#FFA15A",
            "pattern": {
             "shape": ""
            }
           },
           "name": "Loja 5",
           "offsetgroup": "Loja 5",
           "orientation": "h",
           "showlegend": true,
           "textposition": "auto",
           "texttemplate": "%{x}",
           "type": "bar",
           "x": [
            36261
           ],
           "xaxis": "x",
           "y": [
            "Loja 5"
           ],
           "yaxis": "y"
          },
          {
           "alignmentgroup": "True",
           "hovertemplate": "loja=%{y}<br>ano_mes=2021-05<br>acumulado=%{x}<extra></extra>",
           "legendgroup": "Loja 6",
           "marker": {
            "color": "#19d3f3",
            "pattern": {
             "shape": ""
            }
           },
           "name": "Loja 6",
           "offsetgroup": "Loja 6",
           "orientation": "h",
           "showlegend": true,
           "textposition": "auto",
           "texttemplate": "%{x}",
           "type": "bar",
           "x": [
            22492
           ],
           "xaxis": "x",
           "y": [
            "Loja 6"
           ],
           "yaxis": "y"
          }
         ],
         "name": "2021-05"
        },
        {
         "data": [
          {
           "alignmentgroup": "True",
           "hovertemplate": "loja=%{y}<br>ano_mes=2021-06<br>acumulado=%{x}<extra></extra>",
           "legendgroup": "Loja 1",
           "marker": {
            "color": "#636efa",
            "pattern": {
             "shape": ""
            }
           },
           "name": "Loja 1",
           "offsetgroup": "Loja 1",
           "orientation": "h",
           "showlegend": true,
           "textposition": "auto",
           "texttemplate": "%{x}",
           "type": "bar",
           "x": [
            38266
           ],
           "xaxis": "x",
           "y": [
            "Loja 1"
           ],
           "yaxis": "y"
          },
          {
           "alignmentgroup": "True",
           "hovertemplate": "loja=%{y}<br>ano_mes=2021-06<br>acumulado=%{x}<extra></extra>",
           "legendgroup": "Loja 2",
           "marker": {
            "color": "#EF553B",
            "pattern": {
             "shape": ""
            }
           },
           "name": "Loja 2",
           "offsetgroup": "Loja 2",
           "orientation": "h",
           "showlegend": true,
           "textposition": "auto",
           "texttemplate": "%{x}",
           "type": "bar",
           "x": [
            25642
           ],
           "xaxis": "x",
           "y": [
            "Loja 2"
           ],
           "yaxis": "y"
          },
          {
           "alignmentgroup": "True",
           "hovertemplate": "loja=%{y}<br>ano_mes=2021-06<br>acumulado=%{x}<extra></extra>",
           "legendgroup": "Loja 3",
           "marker": {
            "color": "#00cc96",
            "pattern": {
             "shape": ""
            }
           },
           "name": "Loja 3",
           "offsetgroup": "Loja 3",
           "orientation": "h",
           "showlegend": true,
           "textposition": "auto",
           "texttemplate": "%{x}",
           "type": "bar",
           "x": [
            36943
           ],
           "xaxis": "x",
           "y": [
            "Loja 3"
           ],
           "yaxis": "y"
          },
          {
           "alignmentgroup": "True",
           "hovertemplate": "loja=%{y}<br>ano_mes=2021-06<br>acumulado=%{x}<extra></extra>",
           "legendgroup": "Loja 4",
           "marker": {
            "color": "#ab63fa",
            "pattern": {
             "shape": ""
            }
           },
           "name": "Loja 4",
           "offsetgroup": "Loja 4",
           "orientation": "h",
           "showlegend": true,
           "textposition": "auto",
           "texttemplate": "%{x}",
           "type": "bar",
           "x": [
            53165
           ],
           "xaxis": "x",
           "y": [
            "Loja 4"
           ],
           "yaxis": "y"
          },
          {
           "alignmentgroup": "True",
           "hovertemplate": "loja=%{y}<br>ano_mes=2021-06<br>acumulado=%{x}<extra></extra>",
           "legendgroup": "Loja 5",
           "marker": {
            "color": "#FFA15A",
            "pattern": {
             "shape": ""
            }
           },
           "name": "Loja 5",
           "offsetgroup": "Loja 5",
           "orientation": "h",
           "showlegend": true,
           "textposition": "auto",
           "texttemplate": "%{x}",
           "type": "bar",
           "x": [
            38210
           ],
           "xaxis": "x",
           "y": [
            "Loja 5"
           ],
           "yaxis": "y"
          },
          {
           "alignmentgroup": "True",
           "hovertemplate": "loja=%{y}<br>ano_mes=2021-06<br>acumulado=%{x}<extra></extra>",
           "legendgroup": "Loja 6",
           "marker": {
            "color": "#19d3f3",
            "pattern": {
             "shape": ""
            }
           },
           "name": "Loja 6",
           "offsetgroup": "Loja 6",
           "orientation": "h",
           "showlegend": true,
           "textposition": "auto",
           "texttemplate": "%{x}",
           "type": "bar",
           "x": [
            25132
           ],
           "xaxis": "x",
           "y": [
            "Loja 6"
           ],
           "yaxis": "y"
          }
         ],
         "name": "2021-06"
        },
        {
         "data": [
          {
           "alignmentgroup": "True",
           "hovertemplate": "loja=%{y}<br>ano_mes=2021-07<br>acumulado=%{x}<extra></extra>",
           "legendgroup": "Loja 1",
           "marker": {
            "color": "#636efa",
            "pattern": {
             "shape": ""
            }
           },
           "name": "Loja 1",
           "offsetgroup": "Loja 1",
           "orientation": "h",
           "showlegend": true,
           "textposition": "auto",
           "texttemplate": "%{x}",
           "type": "bar",
           "x": [
            40720
           ],
           "xaxis": "x",
           "y": [
            "Loja 1"
           ],
           "yaxis": "y"
          },
          {
           "alignmentgroup": "True",
           "hovertemplate": "loja=%{y}<br>ano_mes=2021-07<br>acumulado=%{x}<extra></extra>",
           "legendgroup": "Loja 2",
           "marker": {
            "color": "#EF553B",
            "pattern": {
             "shape": ""
            }
           },
           "name": "Loja 2",
           "offsetgroup": "Loja 2",
           "orientation": "h",
           "showlegend": true,
           "textposition": "auto",
           "texttemplate": "%{x}",
           "type": "bar",
           "x": [
            27036
           ],
           "xaxis": "x",
           "y": [
            "Loja 2"
           ],
           "yaxis": "y"
          },
          {
           "alignmentgroup": "True",
           "hovertemplate": "loja=%{y}<br>ano_mes=2021-07<br>acumulado=%{x}<extra></extra>",
           "legendgroup": "Loja 3",
           "marker": {
            "color": "#00cc96",
            "pattern": {
             "shape": ""
            }
           },
           "name": "Loja 3",
           "offsetgroup": "Loja 3",
           "orientation": "h",
           "showlegend": true,
           "textposition": "auto",
           "texttemplate": "%{x}",
           "type": "bar",
           "x": [
            39197
           ],
           "xaxis": "x",
           "y": [
            "Loja 3"
           ],
           "yaxis": "y"
          },
          {
           "alignmentgroup": "True",
           "hovertemplate": "loja=%{y}<br>ano_mes=2021-07<br>acumulado=%{x}<extra></extra>",
           "legendgroup": "Loja 4",
           "marker": {
            "color": "#ab63fa",
            "pattern": {
             "shape": ""
            }
           },
           "name": "Loja 4",
           "offsetgroup": "Loja 4",
           "orientation": "h",
           "showlegend": true,
           "textposition": "auto",
           "texttemplate": "%{x}",
           "type": "bar",
           "x": [
            55036
           ],
           "xaxis": "x",
           "y": [
            "Loja 4"
           ],
           "yaxis": "y"
          },
          {
           "alignmentgroup": "True",
           "hovertemplate": "loja=%{y}<br>ano_mes=2021-07<br>acumulado=%{x}<extra></extra>",
           "legendgroup": "Loja 5",
           "marker": {
            "color": "#FFA15A",
            "pattern": {
             "shape": ""
            }
           },
           "name": "Loja 5",
           "offsetgroup": "Loja 5",
           "orientation": "h",
           "showlegend": true,
           "textposition": "auto",
           "texttemplate": "%{x}",
           "type": "bar",
           "x": [
            40291
           ],
           "xaxis": "x",
           "y": [
            "Loja 5"
           ],
           "yaxis": "y"
          },
          {
           "alignmentgroup": "True",
           "hovertemplate": "loja=%{y}<br>ano_mes=2021-07<br>acumulado=%{x}<extra></extra>",
           "legendgroup": "Loja 6",
           "marker": {
            "color": "#19d3f3",
            "pattern": {
             "shape": ""
            }
           },
           "name": "Loja 6",
           "offsetgroup": "Loja 6",
           "orientation": "h",
           "showlegend": true,
           "textposition": "auto",
           "texttemplate": "%{x}",
           "type": "bar",
           "x": [
            27900
           ],
           "xaxis": "x",
           "y": [
            "Loja 6"
           ],
           "yaxis": "y"
          }
         ],
         "name": "2021-07"
        },
        {
         "data": [
          {
           "alignmentgroup": "True",
           "hovertemplate": "loja=%{y}<br>ano_mes=2021-08<br>acumulado=%{x}<extra></extra>",
           "legendgroup": "Loja 1",
           "marker": {
            "color": "#636efa",
            "pattern": {
             "shape": ""
            }
           },
           "name": "Loja 1",
           "offsetgroup": "Loja 1",
           "orientation": "h",
           "showlegend": true,
           "textposition": "auto",
           "texttemplate": "%{x}",
           "type": "bar",
           "x": [
            42885
           ],
           "xaxis": "x",
           "y": [
            "Loja 1"
           ],
           "yaxis": "y"
          },
          {
           "alignmentgroup": "True",
           "hovertemplate": "loja=%{y}<br>ano_mes=2021-08<br>acumulado=%{x}<extra></extra>",
           "legendgroup": "Loja 2",
           "marker": {
            "color": "#EF553B",
            "pattern": {
             "shape": ""
            }
           },
           "name": "Loja 2",
           "offsetgroup": "Loja 2",
           "orientation": "h",
           "showlegend": true,
           "textposition": "auto",
           "texttemplate": "%{x}",
           "type": "bar",
           "x": [
            28504
           ],
           "xaxis": "x",
           "y": [
            "Loja 2"
           ],
           "yaxis": "y"
          },
          {
           "alignmentgroup": "True",
           "hovertemplate": "loja=%{y}<br>ano_mes=2021-08<br>acumulado=%{x}<extra></extra>",
           "legendgroup": "Loja 3",
           "marker": {
            "color": "#00cc96",
            "pattern": {
             "shape": ""
            }
           },
           "name": "Loja 3",
           "offsetgroup": "Loja 3",
           "orientation": "h",
           "showlegend": true,
           "textposition": "auto",
           "texttemplate": "%{x}",
           "type": "bar",
           "x": [
            41189
           ],
           "xaxis": "x",
           "y": [
            "Loja 3"
           ],
           "yaxis": "y"
          },
          {
           "alignmentgroup": "True",
           "hovertemplate": "loja=%{y}<br>ano_mes=2021-08<br>acumulado=%{x}<extra></extra>",
           "legendgroup": "Loja 4",
           "marker": {
            "color": "#ab63fa",
            "pattern": {
             "shape": ""
            }
           },
           "name": "Loja 4",
           "offsetgroup": "Loja 4",
           "orientation": "h",
           "showlegend": true,
           "textposition": "auto",
           "texttemplate": "%{x}",
           "type": "bar",
           "x": [
            57723
           ],
           "xaxis": "x",
           "y": [
            "Loja 4"
           ],
           "yaxis": "y"
          },
          {
           "alignmentgroup": "True",
           "hovertemplate": "loja=%{y}<br>ano_mes=2021-08<br>acumulado=%{x}<extra></extra>",
           "legendgroup": "Loja 5",
           "marker": {
            "color": "#FFA15A",
            "pattern": {
             "shape": ""
            }
           },
           "name": "Loja 5",
           "offsetgroup": "Loja 5",
           "orientation": "h",
           "showlegend": true,
           "textposition": "auto",
           "texttemplate": "%{x}",
           "type": "bar",
           "x": [
            42508
           ],
           "xaxis": "x",
           "y": [
            "Loja 5"
           ],
           "yaxis": "y"
          },
          {
           "alignmentgroup": "True",
           "hovertemplate": "loja=%{y}<br>ano_mes=2021-08<br>acumulado=%{x}<extra></extra>",
           "legendgroup": "Loja 6",
           "marker": {
            "color": "#19d3f3",
            "pattern": {
             "shape": ""
            }
           },
           "name": "Loja 6",
           "offsetgroup": "Loja 6",
           "orientation": "h",
           "showlegend": true,
           "textposition": "auto",
           "texttemplate": "%{x}",
           "type": "bar",
           "x": [
            29598
           ],
           "xaxis": "x",
           "y": [
            "Loja 6"
           ],
           "yaxis": "y"
          }
         ],
         "name": "2021-08"
        },
        {
         "data": [
          {
           "alignmentgroup": "True",
           "hovertemplate": "loja=%{y}<br>ano_mes=2021-09<br>acumulado=%{x}<extra></extra>",
           "legendgroup": "Loja 1",
           "marker": {
            "color": "#636efa",
            "pattern": {
             "shape": ""
            }
           },
           "name": "Loja 1",
           "offsetgroup": "Loja 1",
           "orientation": "h",
           "showlegend": true,
           "textposition": "auto",
           "texttemplate": "%{x}",
           "type": "bar",
           "x": [
            45016
           ],
           "xaxis": "x",
           "y": [
            "Loja 1"
           ],
           "yaxis": "y"
          },
          {
           "alignmentgroup": "True",
           "hovertemplate": "loja=%{y}<br>ano_mes=2021-09<br>acumulado=%{x}<extra></extra>",
           "legendgroup": "Loja 2",
           "marker": {
            "color": "#EF553B",
            "pattern": {
             "shape": ""
            }
           },
           "name": "Loja 2",
           "offsetgroup": "Loja 2",
           "orientation": "h",
           "showlegend": true,
           "textposition": "auto",
           "texttemplate": "%{x}",
           "type": "bar",
           "x": [
            30012
           ],
           "xaxis": "x",
           "y": [
            "Loja 2"
           ],
           "yaxis": "y"
          },
          {
           "alignmentgroup": "True",
           "hovertemplate": "loja=%{y}<br>ano_mes=2021-09<br>acumulado=%{x}<extra></extra>",
           "legendgroup": "Loja 3",
           "marker": {
            "color": "#00cc96",
            "pattern": {
             "shape": ""
            }
           },
           "name": "Loja 3",
           "offsetgroup": "Loja 3",
           "orientation": "h",
           "showlegend": true,
           "textposition": "auto",
           "texttemplate": "%{x}",
           "type": "bar",
           "x": [
            43258
           ],
           "xaxis": "x",
           "y": [
            "Loja 3"
           ],
           "yaxis": "y"
          },
          {
           "alignmentgroup": "True",
           "hovertemplate": "loja=%{y}<br>ano_mes=2021-09<br>acumulado=%{x}<extra></extra>",
           "legendgroup": "Loja 4",
           "marker": {
            "color": "#ab63fa",
            "pattern": {
             "shape": ""
            }
           },
           "name": "Loja 4",
           "offsetgroup": "Loja 4",
           "orientation": "h",
           "showlegend": true,
           "textposition": "auto",
           "texttemplate": "%{x}",
           "type": "bar",
           "x": [
            60019
           ],
           "xaxis": "x",
           "y": [
            "Loja 4"
           ],
           "yaxis": "y"
          },
          {
           "alignmentgroup": "True",
           "hovertemplate": "loja=%{y}<br>ano_mes=2021-09<br>acumulado=%{x}<extra></extra>",
           "legendgroup": "Loja 5",
           "marker": {
            "color": "#FFA15A",
            "pattern": {
             "shape": ""
            }
           },
           "name": "Loja 5",
           "offsetgroup": "Loja 5",
           "orientation": "h",
           "showlegend": true,
           "textposition": "auto",
           "texttemplate": "%{x}",
           "type": "bar",
           "x": [
            44650
           ],
           "xaxis": "x",
           "y": [
            "Loja 5"
           ],
           "yaxis": "y"
          },
          {
           "alignmentgroup": "True",
           "hovertemplate": "loja=%{y}<br>ano_mes=2021-09<br>acumulado=%{x}<extra></extra>",
           "legendgroup": "Loja 6",
           "marker": {
            "color": "#19d3f3",
            "pattern": {
             "shape": ""
            }
           },
           "name": "Loja 6",
           "offsetgroup": "Loja 6",
           "orientation": "h",
           "showlegend": true,
           "textposition": "auto",
           "texttemplate": "%{x}",
           "type": "bar",
           "x": [
            31375
           ],
           "xaxis": "x",
           "y": [
            "Loja 6"
           ],
           "yaxis": "y"
          }
         ],
         "name": "2021-09"
        },
        {
         "data": [
          {
           "alignmentgroup": "True",
           "hovertemplate": "loja=%{y}<br>ano_mes=2021-10<br>acumulado=%{x}<extra></extra>",
           "legendgroup": "Loja 1",
           "marker": {
            "color": "#636efa",
            "pattern": {
             "shape": ""
            }
           },
           "name": "Loja 1",
           "offsetgroup": "Loja 1",
           "orientation": "h",
           "showlegend": true,
           "textposition": "auto",
           "texttemplate": "%{x}",
           "type": "bar",
           "x": [
            47192
           ],
           "xaxis": "x",
           "y": [
            "Loja 1"
           ],
           "yaxis": "y"
          },
          {
           "alignmentgroup": "True",
           "hovertemplate": "loja=%{y}<br>ano_mes=2021-10<br>acumulado=%{x}<extra></extra>",
           "legendgroup": "Loja 2",
           "marker": {
            "color": "#EF553B",
            "pattern": {
             "shape": ""
            }
           },
           "name": "Loja 2",
           "offsetgroup": "Loja 2",
           "orientation": "h",
           "showlegend": true,
           "textposition": "auto",
           "texttemplate": "%{x}",
           "type": "bar",
           "x": [
            31521
           ],
           "xaxis": "x",
           "y": [
            "Loja 2"
           ],
           "yaxis": "y"
          },
          {
           "alignmentgroup": "True",
           "hovertemplate": "loja=%{y}<br>ano_mes=2021-10<br>acumulado=%{x}<extra></extra>",
           "legendgroup": "Loja 3",
           "marker": {
            "color": "#00cc96",
            "pattern": {
             "shape": ""
            }
           },
           "name": "Loja 3",
           "offsetgroup": "Loja 3",
           "orientation": "h",
           "showlegend": true,
           "textposition": "auto",
           "texttemplate": "%{x}",
           "type": "bar",
           "x": [
            45671
           ],
           "xaxis": "x",
           "y": [
            "Loja 3"
           ],
           "yaxis": "y"
          },
          {
           "alignmentgroup": "True",
           "hovertemplate": "loja=%{y}<br>ano_mes=2021-10<br>acumulado=%{x}<extra></extra>",
           "legendgroup": "Loja 4",
           "marker": {
            "color": "#ab63fa",
            "pattern": {
             "shape": ""
            }
           },
           "name": "Loja 4",
           "offsetgroup": "Loja 4",
           "orientation": "h",
           "showlegend": true,
           "textposition": "auto",
           "texttemplate": "%{x}",
           "type": "bar",
           "x": [
            62355
           ],
           "xaxis": "x",
           "y": [
            "Loja 4"
           ],
           "yaxis": "y"
          },
          {
           "alignmentgroup": "True",
           "hovertemplate": "loja=%{y}<br>ano_mes=2021-10<br>acumulado=%{x}<extra></extra>",
           "legendgroup": "Loja 5",
           "marker": {
            "color": "#FFA15A",
            "pattern": {
             "shape": ""
            }
           },
           "name": "Loja 5",
           "offsetgroup": "Loja 5",
           "orientation": "h",
           "showlegend": true,
           "textposition": "auto",
           "texttemplate": "%{x}",
           "type": "bar",
           "x": [
            46657
           ],
           "xaxis": "x",
           "y": [
            "Loja 5"
           ],
           "yaxis": "y"
          },
          {
           "alignmentgroup": "True",
           "hovertemplate": "loja=%{y}<br>ano_mes=2021-10<br>acumulado=%{x}<extra></extra>",
           "legendgroup": "Loja 6",
           "marker": {
            "color": "#19d3f3",
            "pattern": {
             "shape": ""
            }
           },
           "name": "Loja 6",
           "offsetgroup": "Loja 6",
           "orientation": "h",
           "showlegend": true,
           "textposition": "auto",
           "texttemplate": "%{x}",
           "type": "bar",
           "x": [
            33302
           ],
           "xaxis": "x",
           "y": [
            "Loja 6"
           ],
           "yaxis": "y"
          }
         ],
         "name": "2021-10"
        },
        {
         "data": [
          {
           "alignmentgroup": "True",
           "hovertemplate": "loja=%{y}<br>ano_mes=2021-11<br>acumulado=%{x}<extra></extra>",
           "legendgroup": "Loja 1",
           "marker": {
            "color": "#636efa",
            "pattern": {
             "shape": ""
            }
           },
           "name": "Loja 1",
           "offsetgroup": "Loja 1",
           "orientation": "h",
           "showlegend": true,
           "textposition": "auto",
           "texttemplate": "%{x}",
           "type": "bar",
           "x": [
            49249
           ],
           "xaxis": "x",
           "y": [
            "Loja 1"
           ],
           "yaxis": "y"
          },
          {
           "alignmentgroup": "True",
           "hovertemplate": "loja=%{y}<br>ano_mes=2021-11<br>acumulado=%{x}<extra></extra>",
           "legendgroup": "Loja 2",
           "marker": {
            "color": "#EF553B",
            "pattern": {
             "shape": ""
            }
           },
           "name": "Loja 2",
           "offsetgroup": "Loja 2",
           "orientation": "h",
           "showlegend": true,
           "textposition": "auto",
           "texttemplate": "%{x}",
           "type": "bar",
           "x": [
            32924
           ],
           "xaxis": "x",
           "y": [
            "Loja 2"
           ],
           "yaxis": "y"
          },
          {
           "alignmentgroup": "True",
           "hovertemplate": "loja=%{y}<br>ano_mes=2021-11<br>acumulado=%{x}<extra></extra>",
           "legendgroup": "Loja 3",
           "marker": {
            "color": "#00cc96",
            "pattern": {
             "shape": ""
            }
           },
           "name": "Loja 3",
           "offsetgroup": "Loja 3",
           "orientation": "h",
           "showlegend": true,
           "textposition": "auto",
           "texttemplate": "%{x}",
           "type": "bar",
           "x": [
            47919
           ],
           "xaxis": "x",
           "y": [
            "Loja 3"
           ],
           "yaxis": "y"
          },
          {
           "alignmentgroup": "True",
           "hovertemplate": "loja=%{y}<br>ano_mes=2021-11<br>acumulado=%{x}<extra></extra>",
           "legendgroup": "Loja 4",
           "marker": {
            "color": "#ab63fa",
            "pattern": {
             "shape": ""
            }
           },
           "name": "Loja 4",
           "offsetgroup": "Loja 4",
           "orientation": "h",
           "showlegend": true,
           "textposition": "auto",
           "texttemplate": "%{x}",
           "type": "bar",
           "x": [
            64707
           ],
           "xaxis": "x",
           "y": [
            "Loja 4"
           ],
           "yaxis": "y"
          },
          {
           "alignmentgroup": "True",
           "hovertemplate": "loja=%{y}<br>ano_mes=2021-11<br>acumulado=%{x}<extra></extra>",
           "legendgroup": "Loja 5",
           "marker": {
            "color": "#FFA15A",
            "pattern": {
             "shape": ""
            }
           },
           "name": "Loja 5",
           "offsetgroup": "Loja 5",
           "orientation": "h",
           "showlegend": true,
           "textposition": "auto",
           "texttemplate": "%{x}",
           "type": "bar",
           "x": [
            48876
           ],
           "xaxis": "x",
           "y": [
            "Loja 5"
           ],
           "yaxis": "y"
          },
          {
           "alignmentgroup": "True",
           "hovertemplate": "loja=%{y}<br>ano_mes=2021-11<br>acumulado=%{x}<extra></extra>",
           "legendgroup": "Loja 6",
           "marker": {
            "color": "#19d3f3",
            "pattern": {
             "shape": ""
            }
           },
           "name": "Loja 6",
           "offsetgroup": "Loja 6",
           "orientation": "h",
           "showlegend": true,
           "textposition": "auto",
           "texttemplate": "%{x}",
           "type": "bar",
           "x": [
            35226
           ],
           "xaxis": "x",
           "y": [
            "Loja 6"
           ],
           "yaxis": "y"
          }
         ],
         "name": "2021-11"
        },
        {
         "data": [
          {
           "alignmentgroup": "True",
           "hovertemplate": "loja=%{y}<br>ano_mes=2021-12<br>acumulado=%{x}<extra></extra>",
           "legendgroup": "Loja 1",
           "marker": {
            "color": "#636efa",
            "pattern": {
             "shape": ""
            }
           },
           "name": "Loja 1",
           "offsetgroup": "Loja 1",
           "orientation": "h",
           "showlegend": true,
           "textposition": "auto",
           "texttemplate": "%{x}",
           "type": "bar",
           "x": [
            51340
           ],
           "xaxis": "x",
           "y": [
            "Loja 1"
           ],
           "yaxis": "y"
          },
          {
           "alignmentgroup": "True",
           "hovertemplate": "loja=%{y}<br>ano_mes=2021-12<br>acumulado=%{x}<extra></extra>",
           "legendgroup": "Loja 2",
           "marker": {
            "color": "#EF553B",
            "pattern": {
             "shape": ""
            }
           },
           "name": "Loja 2",
           "offsetgroup": "Loja 2",
           "orientation": "h",
           "showlegend": true,
           "textposition": "auto",
           "texttemplate": "%{x}",
           "type": "bar",
           "x": [
            34621
           ],
           "xaxis": "x",
           "y": [
            "Loja 2"
           ],
           "yaxis": "y"
          },
          {
           "alignmentgroup": "True",
           "hovertemplate": "loja=%{y}<br>ano_mes=2021-12<br>acumulado=%{x}<extra></extra>",
           "legendgroup": "Loja 3",
           "marker": {
            "color": "#00cc96",
            "pattern": {
             "shape": ""
            }
           },
           "name": "Loja 3",
           "offsetgroup": "Loja 3",
           "orientation": "h",
           "showlegend": true,
           "textposition": "auto",
           "texttemplate": "%{x}",
           "type": "bar",
           "x": [
            50071
           ],
           "xaxis": "x",
           "y": [
            "Loja 3"
           ],
           "yaxis": "y"
          },
          {
           "alignmentgroup": "True",
           "hovertemplate": "loja=%{y}<br>ano_mes=2021-12<br>acumulado=%{x}<extra></extra>",
           "legendgroup": "Loja 4",
           "marker": {
            "color": "#ab63fa",
            "pattern": {
             "shape": ""
            }
           },
           "name": "Loja 4",
           "offsetgroup": "Loja 4",
           "orientation": "h",
           "showlegend": true,
           "textposition": "auto",
           "texttemplate": "%{x}",
           "type": "bar",
           "x": [
            66139
           ],
           "xaxis": "x",
           "y": [
            "Loja 4"
           ],
           "yaxis": "y"
          },
          {
           "alignmentgroup": "True",
           "hovertemplate": "loja=%{y}<br>ano_mes=2021-12<br>acumulado=%{x}<extra></extra>",
           "legendgroup": "Loja 5",
           "marker": {
            "color": "#FFA15A",
            "pattern": {
             "shape": ""
            }
           },
           "name": "Loja 5",
           "offsetgroup": "Loja 5",
           "orientation": "h",
           "showlegend": true,
           "textposition": "auto",
           "texttemplate": "%{x}",
           "type": "bar",
           "x": [
            50857
           ],
           "xaxis": "x",
           "y": [
            "Loja 5"
           ],
           "yaxis": "y"
          },
          {
           "alignmentgroup": "True",
           "hovertemplate": "loja=%{y}<br>ano_mes=2021-12<br>acumulado=%{x}<extra></extra>",
           "legendgroup": "Loja 6",
           "marker": {
            "color": "#19d3f3",
            "pattern": {
             "shape": ""
            }
           },
           "name": "Loja 6",
           "offsetgroup": "Loja 6",
           "orientation": "h",
           "showlegend": true,
           "textposition": "auto",
           "texttemplate": "%{x}",
           "type": "bar",
           "x": [
            38258
           ],
           "xaxis": "x",
           "y": [
            "Loja 6"
           ],
           "yaxis": "y"
          }
         ],
         "name": "2021-12"
        },
        {
         "data": [
          {
           "alignmentgroup": "True",
           "hovertemplate": "loja=%{y}<br>ano_mes=2022-01<br>acumulado=%{x}<extra></extra>",
           "legendgroup": "Loja 1",
           "marker": {
            "color": "#636efa",
            "pattern": {
             "shape": ""
            }
           },
           "name": "Loja 1",
           "offsetgroup": "Loja 1",
           "orientation": "h",
           "showlegend": true,
           "textposition": "auto",
           "texttemplate": "%{x}",
           "type": "bar",
           "x": [
            55453
           ],
           "xaxis": "x",
           "y": [
            "Loja 1"
           ],
           "yaxis": "y"
          },
          {
           "alignmentgroup": "True",
           "hovertemplate": "loja=%{y}<br>ano_mes=2022-01<br>acumulado=%{x}<extra></extra>",
           "legendgroup": "Loja 2",
           "marker": {
            "color": "#EF553B",
            "pattern": {
             "shape": ""
            }
           },
           "name": "Loja 2",
           "offsetgroup": "Loja 2",
           "orientation": "h",
           "showlegend": true,
           "textposition": "auto",
           "texttemplate": "%{x}",
           "type": "bar",
           "x": [
            37399
           ],
           "xaxis": "x",
           "y": [
            "Loja 2"
           ],
           "yaxis": "y"
          },
          {
           "alignmentgroup": "True",
           "hovertemplate": "loja=%{y}<br>ano_mes=2022-01<br>acumulado=%{x}<extra></extra>",
           "legendgroup": "Loja 3",
           "marker": {
            "color": "#00cc96",
            "pattern": {
             "shape": ""
            }
           },
           "name": "Loja 3",
           "offsetgroup": "Loja 3",
           "orientation": "h",
           "showlegend": true,
           "textposition": "auto",
           "texttemplate": "%{x}",
           "type": "bar",
           "x": [
            54524
           ],
           "xaxis": "x",
           "y": [
            "Loja 3"
           ],
           "yaxis": "y"
          },
          {
           "alignmentgroup": "True",
           "hovertemplate": "loja=%{y}<br>ano_mes=2022-01<br>acumulado=%{x}<extra></extra>",
           "legendgroup": "Loja 4",
           "marker": {
            "color": "#ab63fa",
            "pattern": {
             "shape": ""
            }
           },
           "name": "Loja 4",
           "offsetgroup": "Loja 4",
           "orientation": "h",
           "showlegend": true,
           "textposition": "auto",
           "texttemplate": "%{x}",
           "type": "bar",
           "x": [
            73894
           ],
           "xaxis": "x",
           "y": [
            "Loja 4"
           ],
           "yaxis": "y"
          },
          {
           "alignmentgroup": "True",
           "hovertemplate": "loja=%{y}<br>ano_mes=2022-01<br>acumulado=%{x}<extra></extra>",
           "legendgroup": "Loja 5",
           "marker": {
            "color": "#FFA15A",
            "pattern": {
             "shape": ""
            }
           },
           "name": "Loja 5",
           "offsetgroup": "Loja 5",
           "orientation": "h",
           "showlegend": true,
           "textposition": "auto",
           "texttemplate": "%{x}",
           "type": "bar",
           "x": [
            55261
           ],
           "xaxis": "x",
           "y": [
            "Loja 5"
           ],
           "yaxis": "y"
          },
          {
           "alignmentgroup": "True",
           "hovertemplate": "loja=%{y}<br>ano_mes=2022-01<br>acumulado=%{x}<extra></extra>",
           "legendgroup": "Loja 6",
           "marker": {
            "color": "#19d3f3",
            "pattern": {
             "shape": ""
            }
           },
           "name": "Loja 6",
           "offsetgroup": "Loja 6",
           "orientation": "h",
           "showlegend": true,
           "textposition": "auto",
           "texttemplate": "%{x}",
           "type": "bar",
           "x": [
            39041
           ],
           "xaxis": "x",
           "y": [
            "Loja 6"
           ],
           "yaxis": "y"
          }
         ],
         "name": "2022-01"
        },
        {
         "data": [
          {
           "alignmentgroup": "True",
           "hovertemplate": "loja=%{y}<br>ano_mes=2022-02<br>acumulado=%{x}<extra></extra>",
           "legendgroup": "Loja 1",
           "marker": {
            "color": "#636efa",
            "pattern": {
             "shape": ""
            }
           },
           "name": "Loja 1",
           "offsetgroup": "Loja 1",
           "orientation": "h",
           "showlegend": true,
           "textposition": "auto",
           "texttemplate": "%{x}",
           "type": "bar",
           "x": [
            59526
           ],
           "xaxis": "x",
           "y": [
            "Loja 1"
           ],
           "yaxis": "y"
          },
          {
           "alignmentgroup": "True",
           "hovertemplate": "loja=%{y}<br>ano_mes=2022-02<br>acumulado=%{x}<extra></extra>",
           "legendgroup": "Loja 2",
           "marker": {
            "color": "#EF553B",
            "pattern": {
             "shape": ""
            }
           },
           "name": "Loja 2",
           "offsetgroup": "Loja 2",
           "orientation": "h",
           "showlegend": true,
           "textposition": "auto",
           "texttemplate": "%{x}",
           "type": "bar",
           "x": [
            39954
           ],
           "xaxis": "x",
           "y": [
            "Loja 2"
           ],
           "yaxis": "y"
          },
          {
           "alignmentgroup": "True",
           "hovertemplate": "loja=%{y}<br>ano_mes=2022-02<br>acumulado=%{x}<extra></extra>",
           "legendgroup": "Loja 3",
           "marker": {
            "color": "#00cc96",
            "pattern": {
             "shape": ""
            }
           },
           "name": "Loja 3",
           "offsetgroup": "Loja 3",
           "orientation": "h",
           "showlegend": true,
           "textposition": "auto",
           "texttemplate": "%{x}",
           "type": "bar",
           "x": [
            58346
           ],
           "xaxis": "x",
           "y": [
            "Loja 3"
           ],
           "yaxis": "y"
          },
          {
           "alignmentgroup": "True",
           "hovertemplate": "loja=%{y}<br>ano_mes=2022-02<br>acumulado=%{x}<extra></extra>",
           "legendgroup": "Loja 4",
           "marker": {
            "color": "#ab63fa",
            "pattern": {
             "shape": ""
            }
           },
           "name": "Loja 4",
           "offsetgroup": "Loja 4",
           "orientation": "h",
           "showlegend": true,
           "textposition": "auto",
           "texttemplate": "%{x}",
           "type": "bar",
           "x": [
            77636
           ],
           "xaxis": "x",
           "y": [
            "Loja 4"
           ],
           "yaxis": "y"
          },
          {
           "alignmentgroup": "True",
           "hovertemplate": "loja=%{y}<br>ano_mes=2022-02<br>acumulado=%{x}<extra></extra>",
           "legendgroup": "Loja 5",
           "marker": {
            "color": "#FFA15A",
            "pattern": {
             "shape": ""
            }
           },
           "name": "Loja 5",
           "offsetgroup": "Loja 5",
           "orientation": "h",
           "showlegend": true,
           "textposition": "auto",
           "texttemplate": "%{x}",
           "type": "bar",
           "x": [
            59090
           ],
           "xaxis": "x",
           "y": [
            "Loja 5"
           ],
           "yaxis": "y"
          },
          {
           "alignmentgroup": "True",
           "hovertemplate": "loja=%{y}<br>ano_mes=2022-02<br>acumulado=%{x}<extra></extra>",
           "legendgroup": "Loja 6",
           "marker": {
            "color": "#19d3f3",
            "pattern": {
             "shape": ""
            }
           },
           "name": "Loja 6",
           "offsetgroup": "Loja 6",
           "orientation": "h",
           "showlegend": true,
           "textposition": "auto",
           "texttemplate": "%{x}",
           "type": "bar",
           "x": [
            43274
           ],
           "xaxis": "x",
           "y": [
            "Loja 6"
           ],
           "yaxis": "y"
          }
         ],
         "name": "2022-02"
        },
        {
         "data": [
          {
           "alignmentgroup": "True",
           "hovertemplate": "loja=%{y}<br>ano_mes=2022-03<br>acumulado=%{x}<extra></extra>",
           "legendgroup": "Loja 1",
           "marker": {
            "color": "#636efa",
            "pattern": {
             "shape": ""
            }
           },
           "name": "Loja 1",
           "offsetgroup": "Loja 1",
           "orientation": "h",
           "showlegend": true,
           "textposition": "auto",
           "texttemplate": "%{x}",
           "type": "bar",
           "x": [
            64157
           ],
           "xaxis": "x",
           "y": [
            "Loja 1"
           ],
           "yaxis": "y"
          },
          {
           "alignmentgroup": "True",
           "hovertemplate": "loja=%{y}<br>ano_mes=2022-03<br>acumulado=%{x}<extra></extra>",
           "legendgroup": "Loja 2",
           "marker": {
            "color": "#EF553B",
            "pattern": {
             "shape": ""
            }
           },
           "name": "Loja 2",
           "offsetgroup": "Loja 2",
           "orientation": "h",
           "showlegend": true,
           "textposition": "auto",
           "texttemplate": "%{x}",
           "type": "bar",
           "x": [
            42968
           ],
           "xaxis": "x",
           "y": [
            "Loja 2"
           ],
           "yaxis": "y"
          },
          {
           "alignmentgroup": "True",
           "hovertemplate": "loja=%{y}<br>ano_mes=2022-03<br>acumulado=%{x}<extra></extra>",
           "legendgroup": "Loja 3",
           "marker": {
            "color": "#00cc96",
            "pattern": {
             "shape": ""
            }
           },
           "name": "Loja 3",
           "offsetgroup": "Loja 3",
           "orientation": "h",
           "showlegend": true,
           "textposition": "auto",
           "texttemplate": "%{x}",
           "type": "bar",
           "x": [
            62928
           ],
           "xaxis": "x",
           "y": [
            "Loja 3"
           ],
           "yaxis": "y"
          },
          {
           "alignmentgroup": "True",
           "hovertemplate": "loja=%{y}<br>ano_mes=2022-03<br>acumulado=%{x}<extra></extra>",
           "legendgroup": "Loja 4",
           "marker": {
            "color": "#ab63fa",
            "pattern": {
             "shape": ""
            }
           },
           "name": "Loja 4",
           "offsetgroup": "Loja 4",
           "orientation": "h",
           "showlegend": true,
           "textposition": "auto",
           "texttemplate": "%{x}",
           "type": "bar",
           "x": [
            82448
           ],
           "xaxis": "x",
           "y": [
            "Loja 4"
           ],
           "yaxis": "y"
          },
          {
           "alignmentgroup": "True",
           "hovertemplate": "loja=%{y}<br>ano_mes=2022-03<br>acumulado=%{x}<extra></extra>",
           "legendgroup": "Loja 5",
           "marker": {
            "color": "#FFA15A",
            "pattern": {
             "shape": ""
            }
           },
           "name": "Loja 5",
           "offsetgroup": "Loja 5",
           "orientation": "h",
           "showlegend": true,
           "textposition": "auto",
           "texttemplate": "%{x}",
           "type": "bar",
           "x": [
            63924
           ],
           "xaxis": "x",
           "y": [
            "Loja 5"
           ],
           "yaxis": "y"
          },
          {
           "alignmentgroup": "True",
           "hovertemplate": "loja=%{y}<br>ano_mes=2022-03<br>acumulado=%{x}<extra></extra>",
           "legendgroup": "Loja 6",
           "marker": {
            "color": "#19d3f3",
            "pattern": {
             "shape": ""
            }
           },
           "name": "Loja 6",
           "offsetgroup": "Loja 6",
           "orientation": "h",
           "showlegend": true,
           "textposition": "auto",
           "texttemplate": "%{x}",
           "type": "bar",
           "x": [
            47517
           ],
           "xaxis": "x",
           "y": [
            "Loja 6"
           ],
           "yaxis": "y"
          }
         ],
         "name": "2022-03"
        },
        {
         "data": [
          {
           "alignmentgroup": "True",
           "hovertemplate": "loja=%{y}<br>ano_mes=2022-04<br>acumulado=%{x}<extra></extra>",
           "legendgroup": "Loja 1",
           "marker": {
            "color": "#636efa",
            "pattern": {
             "shape": ""
            }
           },
           "name": "Loja 1",
           "offsetgroup": "Loja 1",
           "orientation": "h",
           "showlegend": true,
           "textposition": "auto",
           "texttemplate": "%{x}",
           "type": "bar",
           "x": [
            68481
           ],
           "xaxis": "x",
           "y": [
            "Loja 1"
           ],
           "yaxis": "y"
          },
          {
           "alignmentgroup": "True",
           "hovertemplate": "loja=%{y}<br>ano_mes=2022-04<br>acumulado=%{x}<extra></extra>",
           "legendgroup": "Loja 2",
           "marker": {
            "color": "#EF553B",
            "pattern": {
             "shape": ""
            }
           },
           "name": "Loja 2",
           "offsetgroup": "Loja 2",
           "orientation": "h",
           "showlegend": true,
           "textposition": "auto",
           "texttemplate": "%{x}",
           "type": "bar",
           "x": [
            45932
           ],
           "xaxis": "x",
           "y": [
            "Loja 2"
           ],
           "yaxis": "y"
          },
          {
           "alignmentgroup": "True",
           "hovertemplate": "loja=%{y}<br>ano_mes=2022-04<br>acumulado=%{x}<extra></extra>",
           "legendgroup": "Loja 3",
           "marker": {
            "color": "#00cc96",
            "pattern": {
             "shape": ""
            }
           },
           "name": "Loja 3",
           "offsetgroup": "Loja 3",
           "orientation": "h",
           "showlegend": true,
           "textposition": "auto",
           "texttemplate": "%{x}",
           "type": "bar",
           "x": [
            66844
           ],
           "xaxis": "x",
           "y": [
            "Loja 3"
           ],
           "yaxis": "y"
          },
          {
           "alignmentgroup": "True",
           "hovertemplate": "loja=%{y}<br>ano_mes=2022-04<br>acumulado=%{x}<extra></extra>",
           "legendgroup": "Loja 4",
           "marker": {
            "color": "#ab63fa",
            "pattern": {
             "shape": ""
            }
           },
           "name": "Loja 4",
           "offsetgroup": "Loja 4",
           "orientation": "h",
           "showlegend": true,
           "textposition": "auto",
           "texttemplate": "%{x}",
           "type": "bar",
           "x": [
            87000
           ],
           "xaxis": "x",
           "y": [
            "Loja 4"
           ],
           "yaxis": "y"
          },
          {
           "alignmentgroup": "True",
           "hovertemplate": "loja=%{y}<br>ano_mes=2022-04<br>acumulado=%{x}<extra></extra>",
           "legendgroup": "Loja 5",
           "marker": {
            "color": "#FFA15A",
            "pattern": {
             "shape": ""
            }
           },
           "name": "Loja 5",
           "offsetgroup": "Loja 5",
           "orientation": "h",
           "showlegend": true,
           "textposition": "auto",
           "texttemplate": "%{x}",
           "type": "bar",
           "x": [
            67679
           ],
           "xaxis": "x",
           "y": [
            "Loja 5"
           ],
           "yaxis": "y"
          },
          {
           "alignmentgroup": "True",
           "hovertemplate": "loja=%{y}<br>ano_mes=2022-04<br>acumulado=%{x}<extra></extra>",
           "legendgroup": "Loja 6",
           "marker": {
            "color": "#19d3f3",
            "pattern": {
             "shape": ""
            }
           },
           "name": "Loja 6",
           "offsetgroup": "Loja 6",
           "orientation": "h",
           "showlegend": true,
           "textposition": "auto",
           "texttemplate": "%{x}",
           "type": "bar",
           "x": [
            51403
           ],
           "xaxis": "x",
           "y": [
            "Loja 6"
           ],
           "yaxis": "y"
          }
         ],
         "name": "2022-04"
        },
        {
         "data": [
          {
           "alignmentgroup": "True",
           "hovertemplate": "loja=%{y}<br>ano_mes=2022-05<br>acumulado=%{x}<extra></extra>",
           "legendgroup": "Loja 1",
           "marker": {
            "color": "#636efa",
            "pattern": {
             "shape": ""
            }
           },
           "name": "Loja 1",
           "offsetgroup": "Loja 1",
           "orientation": "h",
           "showlegend": true,
           "textposition": "auto",
           "texttemplate": "%{x}",
           "type": "bar",
           "x": [
            72999
           ],
           "xaxis": "x",
           "y": [
            "Loja 1"
           ],
           "yaxis": "y"
          },
          {
           "alignmentgroup": "True",
           "hovertemplate": "loja=%{y}<br>ano_mes=2022-05<br>acumulado=%{x}<extra></extra>",
           "legendgroup": "Loja 2",
           "marker": {
            "color": "#EF553B",
            "pattern": {
             "shape": ""
            }
           },
           "name": "Loja 2",
           "offsetgroup": "Loja 2",
           "orientation": "h",
           "showlegend": true,
           "textposition": "auto",
           "texttemplate": "%{x}",
           "type": "bar",
           "x": [
            48981
           ],
           "xaxis": "x",
           "y": [
            "Loja 2"
           ],
           "yaxis": "y"
          },
          {
           "alignmentgroup": "True",
           "hovertemplate": "loja=%{y}<br>ano_mes=2022-05<br>acumulado=%{x}<extra></extra>",
           "legendgroup": "Loja 3",
           "marker": {
            "color": "#00cc96",
            "pattern": {
             "shape": ""
            }
           },
           "name": "Loja 3",
           "offsetgroup": "Loja 3",
           "orientation": "h",
           "showlegend": true,
           "textposition": "auto",
           "texttemplate": "%{x}",
           "type": "bar",
           "x": [
            71304
           ],
           "xaxis": "x",
           "y": [
            "Loja 3"
           ],
           "yaxis": "y"
          },
          {
           "alignmentgroup": "True",
           "hovertemplate": "loja=%{y}<br>ano_mes=2022-05<br>acumulado=%{x}<extra></extra>",
           "legendgroup": "Loja 4",
           "marker": {
            "color": "#ab63fa",
            "pattern": {
             "shape": ""
            }
           },
           "name": "Loja 4",
           "offsetgroup": "Loja 4",
           "orientation": "h",
           "showlegend": true,
           "textposition": "auto",
           "texttemplate": "%{x}",
           "type": "bar",
           "x": [
            92755
           ],
           "xaxis": "x",
           "y": [
            "Loja 4"
           ],
           "yaxis": "y"
          },
          {
           "alignmentgroup": "True",
           "hovertemplate": "loja=%{y}<br>ano_mes=2022-05<br>acumulado=%{x}<extra></extra>",
           "legendgroup": "Loja 5",
           "marker": {
            "color": "#FFA15A",
            "pattern": {
             "shape": ""
            }
           },
           "name": "Loja 5",
           "offsetgroup": "Loja 5",
           "orientation": "h",
           "showlegend": true,
           "textposition": "auto",
           "texttemplate": "%{x}",
           "type": "bar",
           "x": [
            72200
           ],
           "xaxis": "x",
           "y": [
            "Loja 5"
           ],
           "yaxis": "y"
          },
          {
           "alignmentgroup": "True",
           "hovertemplate": "loja=%{y}<br>ano_mes=2022-05<br>acumulado=%{x}<extra></extra>",
           "legendgroup": "Loja 6",
           "marker": {
            "color": "#19d3f3",
            "pattern": {
             "shape": ""
            }
           },
           "name": "Loja 6",
           "offsetgroup": "Loja 6",
           "orientation": "h",
           "showlegend": true,
           "textposition": "auto",
           "texttemplate": "%{x}",
           "type": "bar",
           "x": [
            54545
           ],
           "xaxis": "x",
           "y": [
            "Loja 6"
           ],
           "yaxis": "y"
          }
         ],
         "name": "2022-05"
        },
        {
         "data": [
          {
           "alignmentgroup": "True",
           "hovertemplate": "loja=%{y}<br>ano_mes=2022-06<br>acumulado=%{x}<extra></extra>",
           "legendgroup": "Loja 1",
           "marker": {
            "color": "#636efa",
            "pattern": {
             "shape": ""
            }
           },
           "name": "Loja 1",
           "offsetgroup": "Loja 1",
           "orientation": "h",
           "showlegend": true,
           "textposition": "auto",
           "texttemplate": "%{x}",
           "type": "bar",
           "x": [
            77511
           ],
           "xaxis": "x",
           "y": [
            "Loja 1"
           ],
           "yaxis": "y"
          },
          {
           "alignmentgroup": "True",
           "hovertemplate": "loja=%{y}<br>ano_mes=2022-06<br>acumulado=%{x}<extra></extra>",
           "legendgroup": "Loja 2",
           "marker": {
            "color": "#EF553B",
            "pattern": {
             "shape": ""
            }
           },
           "name": "Loja 2",
           "offsetgroup": "Loja 2",
           "orientation": "h",
           "showlegend": true,
           "textposition": "auto",
           "texttemplate": "%{x}",
           "type": "bar",
           "x": [
            51825
           ],
           "xaxis": "x",
           "y": [
            "Loja 2"
           ],
           "yaxis": "y"
          },
          {
           "alignmentgroup": "True",
           "hovertemplate": "loja=%{y}<br>ano_mes=2022-06<br>acumulado=%{x}<extra></extra>",
           "legendgroup": "Loja 3",
           "marker": {
            "color": "#00cc96",
            "pattern": {
             "shape": ""
            }
           },
           "name": "Loja 3",
           "offsetgroup": "Loja 3",
           "orientation": "h",
           "showlegend": true,
           "textposition": "auto",
           "texttemplate": "%{x}",
           "type": "bar",
           "x": [
            74925
           ],
           "xaxis": "x",
           "y": [
            "Loja 3"
           ],
           "yaxis": "y"
          },
          {
           "alignmentgroup": "True",
           "hovertemplate": "loja=%{y}<br>ano_mes=2022-06<br>acumulado=%{x}<extra></extra>",
           "legendgroup": "Loja 4",
           "marker": {
            "color": "#ab63fa",
            "pattern": {
             "shape": ""
            }
           },
           "name": "Loja 4",
           "offsetgroup": "Loja 4",
           "orientation": "h",
           "showlegend": true,
           "textposition": "auto",
           "texttemplate": "%{x}",
           "type": "bar",
           "x": [
            95444
           ],
           "xaxis": "x",
           "y": [
            "Loja 4"
           ],
           "yaxis": "y"
          },
          {
           "alignmentgroup": "True",
           "hovertemplate": "loja=%{y}<br>ano_mes=2022-06<br>acumulado=%{x}<extra></extra>",
           "legendgroup": "Loja 5",
           "marker": {
            "color": "#FFA15A",
            "pattern": {
             "shape": ""
            }
           },
           "name": "Loja 5",
           "offsetgroup": "Loja 5",
           "orientation": "h",
           "showlegend": true,
           "textposition": "auto",
           "texttemplate": "%{x}",
           "type": "bar",
           "x": [
            76568
           ],
           "xaxis": "x",
           "y": [
            "Loja 5"
           ],
           "yaxis": "y"
          },
          {
           "alignmentgroup": "True",
           "hovertemplate": "loja=%{y}<br>ano_mes=2022-06<br>acumulado=%{x}<extra></extra>",
           "legendgroup": "Loja 6",
           "marker": {
            "color": "#19d3f3",
            "pattern": {
             "shape": ""
            }
           },
           "name": "Loja 6",
           "offsetgroup": "Loja 6",
           "orientation": "h",
           "showlegend": true,
           "textposition": "auto",
           "texttemplate": "%{x}",
           "type": "bar",
           "x": [
            60602
           ],
           "xaxis": "x",
           "y": [
            "Loja 6"
           ],
           "yaxis": "y"
          }
         ],
         "name": "2022-06"
        },
        {
         "data": [
          {
           "alignmentgroup": "True",
           "hovertemplate": "loja=%{y}<br>ano_mes=2022-07<br>acumulado=%{x}<extra></extra>",
           "legendgroup": "Loja 1",
           "marker": {
            "color": "#636efa",
            "pattern": {
             "shape": ""
            }
           },
           "name": "Loja 1",
           "offsetgroup": "Loja 1",
           "orientation": "h",
           "showlegend": true,
           "textposition": "auto",
           "texttemplate": "%{x}",
           "type": "bar",
           "x": [
            81579
           ],
           "xaxis": "x",
           "y": [
            "Loja 1"
           ],
           "yaxis": "y"
          },
          {
           "alignmentgroup": "True",
           "hovertemplate": "loja=%{y}<br>ano_mes=2022-07<br>acumulado=%{x}<extra></extra>",
           "legendgroup": "Loja 2",
           "marker": {
            "color": "#EF553B",
            "pattern": {
             "shape": ""
            }
           },
           "name": "Loja 2",
           "offsetgroup": "Loja 2",
           "orientation": "h",
           "showlegend": true,
           "textposition": "auto",
           "texttemplate": "%{x}",
           "type": "bar",
           "x": [
            55103
           ],
           "xaxis": "x",
           "y": [
            "Loja 2"
           ],
           "yaxis": "y"
          },
          {
           "alignmentgroup": "True",
           "hovertemplate": "loja=%{y}<br>ano_mes=2022-07<br>acumulado=%{x}<extra></extra>",
           "legendgroup": "Loja 3",
           "marker": {
            "color": "#00cc96",
            "pattern": {
             "shape": ""
            }
           },
           "name": "Loja 3",
           "offsetgroup": "Loja 3",
           "orientation": "h",
           "showlegend": true,
           "textposition": "auto",
           "texttemplate": "%{x}",
           "type": "bar",
           "x": [
            77650
           ],
           "xaxis": "x",
           "y": [
            "Loja 3"
           ],
           "yaxis": "y"
          },
          {
           "alignmentgroup": "True",
           "hovertemplate": "loja=%{y}<br>ano_mes=2022-07<br>acumulado=%{x}<extra></extra>",
           "legendgroup": "Loja 4",
           "marker": {
            "color": "#ab63fa",
            "pattern": {
             "shape": ""
            }
           },
           "name": "Loja 4",
           "offsetgroup": "Loja 4",
           "orientation": "h",
           "showlegend": true,
           "textposition": "auto",
           "texttemplate": "%{x}",
           "type": "bar",
           "x": [
            98264
           ],
           "xaxis": "x",
           "y": [
            "Loja 4"
           ],
           "yaxis": "y"
          },
          {
           "alignmentgroup": "True",
           "hovertemplate": "loja=%{y}<br>ano_mes=2022-07<br>acumulado=%{x}<extra></extra>",
           "legendgroup": "Loja 5",
           "marker": {
            "color": "#FFA15A",
            "pattern": {
             "shape": ""
            }
           },
           "name": "Loja 5",
           "offsetgroup": "Loja 5",
           "orientation": "h",
           "showlegend": true,
           "textposition": "auto",
           "texttemplate": "%{x}",
           "type": "bar",
           "x": [
            80931
           ],
           "xaxis": "x",
           "y": [
            "Loja 5"
           ],
           "yaxis": "y"
          },
          {
           "alignmentgroup": "True",
           "hovertemplate": "loja=%{y}<br>ano_mes=2022-07<br>acumulado=%{x}<extra></extra>",
           "legendgroup": "Loja 6",
           "marker": {
            "color": "#19d3f3",
            "pattern": {
             "shape": ""
            }
           },
           "name": "Loja 6",
           "offsetgroup": "Loja 6",
           "orientation": "h",
           "showlegend": true,
           "textposition": "auto",
           "texttemplate": "%{x}",
           "type": "bar",
           "x": [
            69240
           ],
           "xaxis": "x",
           "y": [
            "Loja 6"
           ],
           "yaxis": "y"
          }
         ],
         "name": "2022-07"
        },
        {
         "data": [
          {
           "alignmentgroup": "True",
           "hovertemplate": "loja=%{y}<br>ano_mes=2022-08<br>acumulado=%{x}<extra></extra>",
           "legendgroup": "Loja 1",
           "marker": {
            "color": "#636efa",
            "pattern": {
             "shape": ""
            }
           },
           "name": "Loja 1",
           "offsetgroup": "Loja 1",
           "orientation": "h",
           "showlegend": true,
           "textposition": "auto",
           "texttemplate": "%{x}",
           "type": "bar",
           "x": [
            86138
           ],
           "xaxis": "x",
           "y": [
            "Loja 1"
           ],
           "yaxis": "y"
          },
          {
           "alignmentgroup": "True",
           "hovertemplate": "loja=%{y}<br>ano_mes=2022-08<br>acumulado=%{x}<extra></extra>",
           "legendgroup": "Loja 2",
           "marker": {
            "color": "#EF553B",
            "pattern": {
             "shape": ""
            }
           },
           "name": "Loja 2",
           "offsetgroup": "Loja 2",
           "orientation": "h",
           "showlegend": true,
           "textposition": "auto",
           "texttemplate": "%{x}",
           "type": "bar",
           "x": [
            57833
           ],
           "xaxis": "x",
           "y": [
            "Loja 2"
           ],
           "yaxis": "y"
          },
          {
           "alignmentgroup": "True",
           "hovertemplate": "loja=%{y}<br>ano_mes=2022-08<br>acumulado=%{x}<extra></extra>",
           "legendgroup": "Loja 3",
           "marker": {
            "color": "#00cc96",
            "pattern": {
             "shape": ""
            }
           },
           "name": "Loja 3",
           "offsetgroup": "Loja 3",
           "orientation": "h",
           "showlegend": true,
           "textposition": "auto",
           "texttemplate": "%{x}",
           "type": "bar",
           "x": [
            79685
           ],
           "xaxis": "x",
           "y": [
            "Loja 3"
           ],
           "yaxis": "y"
          },
          {
           "alignmentgroup": "True",
           "hovertemplate": "loja=%{y}<br>ano_mes=2022-08<br>acumulado=%{x}<extra></extra>",
           "legendgroup": "Loja 4",
           "marker": {
            "color": "#ab63fa",
            "pattern": {
             "shape": ""
            }
           },
           "name": "Loja 4",
           "offsetgroup": "Loja 4",
           "orientation": "h",
           "showlegend": true,
           "textposition": "auto",
           "texttemplate": "%{x}",
           "type": "bar",
           "x": [
            100834
           ],
           "xaxis": "x",
           "y": [
            "Loja 4"
           ],
           "yaxis": "y"
          },
          {
           "alignmentgroup": "True",
           "hovertemplate": "loja=%{y}<br>ano_mes=2022-08<br>acumulado=%{x}<extra></extra>",
           "legendgroup": "Loja 5",
           "marker": {
            "color": "#FFA15A",
            "pattern": {
             "shape": ""
            }
           },
           "name": "Loja 5",
           "offsetgroup": "Loja 5",
           "orientation": "h",
           "showlegend": true,
           "textposition": "auto",
           "texttemplate": "%{x}",
           "type": "bar",
           "x": [
            85049
           ],
           "xaxis": "x",
           "y": [
            "Loja 5"
           ],
           "yaxis": "y"
          },
          {
           "alignmentgroup": "True",
           "hovertemplate": "loja=%{y}<br>ano_mes=2022-08<br>acumulado=%{x}<extra></extra>",
           "legendgroup": "Loja 6",
           "marker": {
            "color": "#19d3f3",
            "pattern": {
             "shape": ""
            }
           },
           "name": "Loja 6",
           "offsetgroup": "Loja 6",
           "orientation": "h",
           "showlegend": true,
           "textposition": "auto",
           "texttemplate": "%{x}",
           "type": "bar",
           "x": [
            77097
           ],
           "xaxis": "x",
           "y": [
            "Loja 6"
           ],
           "yaxis": "y"
          }
         ],
         "name": "2022-08"
        },
        {
         "data": [
          {
           "alignmentgroup": "True",
           "hovertemplate": "loja=%{y}<br>ano_mes=2022-09<br>acumulado=%{x}<extra></extra>",
           "legendgroup": "Loja 1",
           "marker": {
            "color": "#636efa",
            "pattern": {
             "shape": ""
            }
           },
           "name": "Loja 1",
           "offsetgroup": "Loja 1",
           "orientation": "h",
           "showlegend": true,
           "textposition": "auto",
           "texttemplate": "%{x}",
           "type": "bar",
           "x": [
            90224
           ],
           "xaxis": "x",
           "y": [
            "Loja 1"
           ],
           "yaxis": "y"
          },
          {
           "alignmentgroup": "True",
           "hovertemplate": "loja=%{y}<br>ano_mes=2022-09<br>acumulado=%{x}<extra></extra>",
           "legendgroup": "Loja 2",
           "marker": {
            "color": "#EF553B",
            "pattern": {
             "shape": ""
            }
           },
           "name": "Loja 2",
           "offsetgroup": "Loja 2",
           "orientation": "h",
           "showlegend": true,
           "textposition": "auto",
           "texttemplate": "%{x}",
           "type": "bar",
           "x": [
            60675
           ],
           "xaxis": "x",
           "y": [
            "Loja 2"
           ],
           "yaxis": "y"
          },
          {
           "alignmentgroup": "True",
           "hovertemplate": "loja=%{y}<br>ano_mes=2022-09<br>acumulado=%{x}<extra></extra>",
           "legendgroup": "Loja 3",
           "marker": {
            "color": "#00cc96",
            "pattern": {
             "shape": ""
            }
           },
           "name": "Loja 3",
           "offsetgroup": "Loja 3",
           "orientation": "h",
           "showlegend": true,
           "textposition": "auto",
           "texttemplate": "%{x}",
           "type": "bar",
           "x": [
            81696
           ],
           "xaxis": "x",
           "y": [
            "Loja 3"
           ],
           "yaxis": "y"
          },
          {
           "alignmentgroup": "True",
           "hovertemplate": "loja=%{y}<br>ano_mes=2022-09<br>acumulado=%{x}<extra></extra>",
           "legendgroup": "Loja 4",
           "marker": {
            "color": "#ab63fa",
            "pattern": {
             "shape": ""
            }
           },
           "name": "Loja 4",
           "offsetgroup": "Loja 4",
           "orientation": "h",
           "showlegend": true,
           "textposition": "auto",
           "texttemplate": "%{x}",
           "type": "bar",
           "x": [
            103612
           ],
           "xaxis": "x",
           "y": [
            "Loja 4"
           ],
           "yaxis": "y"
          },
          {
           "alignmentgroup": "True",
           "hovertemplate": "loja=%{y}<br>ano_mes=2022-09<br>acumulado=%{x}<extra></extra>",
           "legendgroup": "Loja 5",
           "marker": {
            "color": "#FFA15A",
            "pattern": {
             "shape": ""
            }
           },
           "name": "Loja 5",
           "offsetgroup": "Loja 5",
           "orientation": "h",
           "showlegend": true,
           "textposition": "auto",
           "texttemplate": "%{x}",
           "type": "bar",
           "x": [
            89080
           ],
           "xaxis": "x",
           "y": [
            "Loja 5"
           ],
           "yaxis": "y"
          },
          {
           "alignmentgroup": "True",
           "hovertemplate": "loja=%{y}<br>ano_mes=2022-09<br>acumulado=%{x}<extra></extra>",
           "legendgroup": "Loja 6",
           "marker": {
            "color": "#19d3f3",
            "pattern": {
             "shape": ""
            }
           },
           "name": "Loja 6",
           "offsetgroup": "Loja 6",
           "orientation": "h",
           "showlegend": true,
           "textposition": "auto",
           "texttemplate": "%{x}",
           "type": "bar",
           "x": [
            85144
           ],
           "xaxis": "x",
           "y": [
            "Loja 6"
           ],
           "yaxis": "y"
          }
         ],
         "name": "2022-09"
        },
        {
         "data": [
          {
           "alignmentgroup": "True",
           "hovertemplate": "loja=%{y}<br>ano_mes=2022-10<br>acumulado=%{x}<extra></extra>",
           "legendgroup": "Loja 1",
           "marker": {
            "color": "#636efa",
            "pattern": {
             "shape": ""
            }
           },
           "name": "Loja 1",
           "offsetgroup": "Loja 1",
           "orientation": "h",
           "showlegend": true,
           "textposition": "auto",
           "texttemplate": "%{x}",
           "type": "bar",
           "x": [
            94918
           ],
           "xaxis": "x",
           "y": [
            "Loja 1"
           ],
           "yaxis": "y"
          },
          {
           "alignmentgroup": "True",
           "hovertemplate": "loja=%{y}<br>ano_mes=2022-10<br>acumulado=%{x}<extra></extra>",
           "legendgroup": "Loja 2",
           "marker": {
            "color": "#EF553B",
            "pattern": {
             "shape": ""
            }
           },
           "name": "Loja 2",
           "offsetgroup": "Loja 2",
           "orientation": "h",
           "showlegend": true,
           "textposition": "auto",
           "texttemplate": "%{x}",
           "type": "bar",
           "x": [
            63700
           ],
           "xaxis": "x",
           "y": [
            "Loja 2"
           ],
           "yaxis": "y"
          },
          {
           "alignmentgroup": "True",
           "hovertemplate": "loja=%{y}<br>ano_mes=2022-10<br>acumulado=%{x}<extra></extra>",
           "legendgroup": "Loja 3",
           "marker": {
            "color": "#00cc96",
            "pattern": {
             "shape": ""
            }
           },
           "name": "Loja 3",
           "offsetgroup": "Loja 3",
           "orientation": "h",
           "showlegend": true,
           "textposition": "auto",
           "texttemplate": "%{x}",
           "type": "bar",
           "x": [
            83533
           ],
           "xaxis": "x",
           "y": [
            "Loja 3"
           ],
           "yaxis": "y"
          },
          {
           "alignmentgroup": "True",
           "hovertemplate": "loja=%{y}<br>ano_mes=2022-10<br>acumulado=%{x}<extra></extra>",
           "legendgroup": "Loja 4",
           "marker": {
            "color": "#ab63fa",
            "pattern": {
             "shape": ""
            }
           },
           "name": "Loja 4",
           "offsetgroup": "Loja 4",
           "orientation": "h",
           "showlegend": true,
           "textposition": "auto",
           "texttemplate": "%{x}",
           "type": "bar",
           "x": [
            106464
           ],
           "xaxis": "x",
           "y": [
            "Loja 4"
           ],
           "yaxis": "y"
          },
          {
           "alignmentgroup": "True",
           "hovertemplate": "loja=%{y}<br>ano_mes=2022-10<br>acumulado=%{x}<extra></extra>",
           "legendgroup": "Loja 5",
           "marker": {
            "color": "#FFA15A",
            "pattern": {
             "shape": ""
            }
           },
           "name": "Loja 5",
           "offsetgroup": "Loja 5",
           "orientation": "h",
           "showlegend": true,
           "textposition": "auto",
           "texttemplate": "%{x}",
           "type": "bar",
           "x": [
            93425
           ],
           "xaxis": "x",
           "y": [
            "Loja 5"
           ],
           "yaxis": "y"
          },
          {
           "alignmentgroup": "True",
           "hovertemplate": "loja=%{y}<br>ano_mes=2022-10<br>acumulado=%{x}<extra></extra>",
           "legendgroup": "Loja 6",
           "marker": {
            "color": "#19d3f3",
            "pattern": {
             "shape": ""
            }
           },
           "name": "Loja 6",
           "offsetgroup": "Loja 6",
           "orientation": "h",
           "showlegend": true,
           "textposition": "auto",
           "texttemplate": "%{x}",
           "type": "bar",
           "x": [
            93696
           ],
           "xaxis": "x",
           "y": [
            "Loja 6"
           ],
           "yaxis": "y"
          }
         ],
         "name": "2022-10"
        },
        {
         "data": [
          {
           "alignmentgroup": "True",
           "hovertemplate": "loja=%{y}<br>ano_mes=2022-11<br>acumulado=%{x}<extra></extra>",
           "legendgroup": "Loja 1",
           "marker": {
            "color": "#636efa",
            "pattern": {
             "shape": ""
            }
           },
           "name": "Loja 1",
           "offsetgroup": "Loja 1",
           "orientation": "h",
           "showlegend": true,
           "textposition": "auto",
           "texttemplate": "%{x}",
           "type": "bar",
           "x": [
            98707
           ],
           "xaxis": "x",
           "y": [
            "Loja 1"
           ],
           "yaxis": "y"
          },
          {
           "alignmentgroup": "True",
           "hovertemplate": "loja=%{y}<br>ano_mes=2022-11<br>acumulado=%{x}<extra></extra>",
           "legendgroup": "Loja 2",
           "marker": {
            "color": "#EF553B",
            "pattern": {
             "shape": ""
            }
           },
           "name": "Loja 2",
           "offsetgroup": "Loja 2",
           "orientation": "h",
           "showlegend": true,
           "textposition": "auto",
           "texttemplate": "%{x}",
           "type": "bar",
           "x": [
            66623
           ],
           "xaxis": "x",
           "y": [
            "Loja 2"
           ],
           "yaxis": "y"
          },
          {
           "alignmentgroup": "True",
           "hovertemplate": "loja=%{y}<br>ano_mes=2022-11<br>acumulado=%{x}<extra></extra>",
           "legendgroup": "Loja 3",
           "marker": {
            "color": "#00cc96",
            "pattern": {
             "shape": ""
            }
           },
           "name": "Loja 3",
           "offsetgroup": "Loja 3",
           "orientation": "h",
           "showlegend": true,
           "textposition": "auto",
           "texttemplate": "%{x}",
           "type": "bar",
           "x": [
            86092
           ],
           "xaxis": "x",
           "y": [
            "Loja 3"
           ],
           "yaxis": "y"
          },
          {
           "alignmentgroup": "True",
           "hovertemplate": "loja=%{y}<br>ano_mes=2022-11<br>acumulado=%{x}<extra></extra>",
           "legendgroup": "Loja 4",
           "marker": {
            "color": "#ab63fa",
            "pattern": {
             "shape": ""
            }
           },
           "name": "Loja 4",
           "offsetgroup": "Loja 4",
           "orientation": "h",
           "showlegend": true,
           "textposition": "auto",
           "texttemplate": "%{x}",
           "type": "bar",
           "x": [
            109411
           ],
           "xaxis": "x",
           "y": [
            "Loja 4"
           ],
           "yaxis": "y"
          },
          {
           "alignmentgroup": "True",
           "hovertemplate": "loja=%{y}<br>ano_mes=2022-11<br>acumulado=%{x}<extra></extra>",
           "legendgroup": "Loja 5",
           "marker": {
            "color": "#FFA15A",
            "pattern": {
             "shape": ""
            }
           },
           "name": "Loja 5",
           "offsetgroup": "Loja 5",
           "orientation": "h",
           "showlegend": true,
           "textposition": "auto",
           "texttemplate": "%{x}",
           "type": "bar",
           "x": [
            97634
           ],
           "xaxis": "x",
           "y": [
            "Loja 5"
           ],
           "yaxis": "y"
          },
          {
           "alignmentgroup": "True",
           "hovertemplate": "loja=%{y}<br>ano_mes=2022-11<br>acumulado=%{x}<extra></extra>",
           "legendgroup": "Loja 6",
           "marker": {
            "color": "#19d3f3",
            "pattern": {
             "shape": ""
            }
           },
           "name": "Loja 6",
           "offsetgroup": "Loja 6",
           "orientation": "h",
           "showlegend": true,
           "textposition": "auto",
           "texttemplate": "%{x}",
           "type": "bar",
           "x": [
            100968
           ],
           "xaxis": "x",
           "y": [
            "Loja 6"
           ],
           "yaxis": "y"
          }
         ],
         "name": "2022-11"
        },
        {
         "data": [
          {
           "alignmentgroup": "True",
           "hovertemplate": "loja=%{y}<br>ano_mes=2022-12<br>acumulado=%{x}<extra></extra>",
           "legendgroup": "Loja 1",
           "marker": {
            "color": "#636efa",
            "pattern": {
             "shape": ""
            }
           },
           "name": "Loja 1",
           "offsetgroup": "Loja 1",
           "orientation": "h",
           "showlegend": true,
           "textposition": "auto",
           "texttemplate": "%{x}",
           "type": "bar",
           "x": [
            103162
           ],
           "xaxis": "x",
           "y": [
            "Loja 1"
           ],
           "yaxis": "y"
          },
          {
           "alignmentgroup": "True",
           "hovertemplate": "loja=%{y}<br>ano_mes=2022-12<br>acumulado=%{x}<extra></extra>",
           "legendgroup": "Loja 2",
           "marker": {
            "color": "#EF553B",
            "pattern": {
             "shape": ""
            }
           },
           "name": "Loja 2",
           "offsetgroup": "Loja 2",
           "orientation": "h",
           "showlegend": true,
           "textposition": "auto",
           "texttemplate": "%{x}",
           "type": "bar",
           "x": [
            69592
           ],
           "xaxis": "x",
           "y": [
            "Loja 2"
           ],
           "yaxis": "y"
          },
          {
           "alignmentgroup": "True",
           "hovertemplate": "loja=%{y}<br>ano_mes=2022-12<br>acumulado=%{x}<extra></extra>",
           "legendgroup": "Loja 3",
           "marker": {
            "color": "#00cc96",
            "pattern": {
             "shape": ""
            }
           },
           "name": "Loja 3",
           "offsetgroup": "Loja 3",
           "orientation": "h",
           "showlegend": true,
           "textposition": "auto",
           "texttemplate": "%{x}",
           "type": "bar",
           "x": [
            88357
           ],
           "xaxis": "x",
           "y": [
            "Loja 3"
           ],
           "yaxis": "y"
          },
          {
           "alignmentgroup": "True",
           "hovertemplate": "loja=%{y}<br>ano_mes=2022-12<br>acumulado=%{x}<extra></extra>",
           "legendgroup": "Loja 4",
           "marker": {
            "color": "#ab63fa",
            "pattern": {
             "shape": ""
            }
           },
           "name": "Loja 4",
           "offsetgroup": "Loja 4",
           "orientation": "h",
           "showlegend": true,
           "textposition": "auto",
           "texttemplate": "%{x}",
           "type": "bar",
           "x": [
            112379
           ],
           "xaxis": "x",
           "y": [
            "Loja 4"
           ],
           "yaxis": "y"
          },
          {
           "alignmentgroup": "True",
           "hovertemplate": "loja=%{y}<br>ano_mes=2022-12<br>acumulado=%{x}<extra></extra>",
           "legendgroup": "Loja 5",
           "marker": {
            "color": "#FFA15A",
            "pattern": {
             "shape": ""
            }
           },
           "name": "Loja 5",
           "offsetgroup": "Loja 5",
           "orientation": "h",
           "showlegend": true,
           "textposition": "auto",
           "texttemplate": "%{x}",
           "type": "bar",
           "x": [
            102189
           ],
           "xaxis": "x",
           "y": [
            "Loja 5"
           ],
           "yaxis": "y"
          },
          {
           "alignmentgroup": "True",
           "hovertemplate": "loja=%{y}<br>ano_mes=2022-12<br>acumulado=%{x}<extra></extra>",
           "legendgroup": "Loja 6",
           "marker": {
            "color": "#19d3f3",
            "pattern": {
             "shape": ""
            }
           },
           "name": "Loja 6",
           "offsetgroup": "Loja 6",
           "orientation": "h",
           "showlegend": true,
           "textposition": "auto",
           "texttemplate": "%{x}",
           "type": "bar",
           "x": [
            109185
           ],
           "xaxis": "x",
           "y": [
            "Loja 6"
           ],
           "yaxis": "y"
          }
         ],
         "name": "2022-12"
        }
       ],
       "layout": {
        "barmode": "relative",
        "legend": {
         "title": {
          "text": "loja"
         },
         "tracegroupgap": 0
        },
        "margin": {
         "t": 60
        },
        "sliders": [
         {
          "active": 0,
          "currentvalue": {
           "prefix": "ano_mes="
          },
          "len": 0.9,
          "pad": {
           "b": 10,
           "t": 60
          },
          "steps": [
           {
            "args": [
             [
              "2020-01"
             ],
             {
              "frame": {
               "duration": 0,
               "redraw": true
              },
              "fromcurrent": true,
              "mode": "immediate",
              "transition": {
               "duration": 0,
               "easing": "linear"
              }
             }
            ],
            "label": "2020-01",
            "method": "animate"
           },
           {
            "args": [
             [
              "2020-02"
             ],
             {
              "frame": {
               "duration": 0,
               "redraw": true
              },
              "fromcurrent": true,
              "mode": "immediate",
              "transition": {
               "duration": 0,
               "easing": "linear"
              }
             }
            ],
            "label": "2020-02",
            "method": "animate"
           },
           {
            "args": [
             [
              "2020-03"
             ],
             {
              "frame": {
               "duration": 0,
               "redraw": true
              },
              "fromcurrent": true,
              "mode": "immediate",
              "transition": {
               "duration": 0,
               "easing": "linear"
              }
             }
            ],
            "label": "2020-03",
            "method": "animate"
           },
           {
            "args": [
             [
              "2020-04"
             ],
             {
              "frame": {
               "duration": 0,
               "redraw": true
              },
              "fromcurrent": true,
              "mode": "immediate",
              "transition": {
               "duration": 0,
               "easing": "linear"
              }
             }
            ],
            "label": "2020-04",
            "method": "animate"
           },
           {
            "args": [
             [
              "2020-05"
             ],
             {
              "frame": {
               "duration": 0,
               "redraw": true
              },
              "fromcurrent": true,
              "mode": "immediate",
              "transition": {
               "duration": 0,
               "easing": "linear"
              }
             }
            ],
            "label": "2020-05",
            "method": "animate"
           },
           {
            "args": [
             [
              "2020-06"
             ],
             {
              "frame": {
               "duration": 0,
               "redraw": true
              },
              "fromcurrent": true,
              "mode": "immediate",
              "transition": {
               "duration": 0,
               "easing": "linear"
              }
             }
            ],
            "label": "2020-06",
            "method": "animate"
           },
           {
            "args": [
             [
              "2020-07"
             ],
             {
              "frame": {
               "duration": 0,
               "redraw": true
              },
              "fromcurrent": true,
              "mode": "immediate",
              "transition": {
               "duration": 0,
               "easing": "linear"
              }
             }
            ],
            "label": "2020-07",
            "method": "animate"
           },
           {
            "args": [
             [
              "2020-08"
             ],
             {
              "frame": {
               "duration": 0,
               "redraw": true
              },
              "fromcurrent": true,
              "mode": "immediate",
              "transition": {
               "duration": 0,
               "easing": "linear"
              }
             }
            ],
            "label": "2020-08",
            "method": "animate"
           },
           {
            "args": [
             [
              "2020-09"
             ],
             {
              "frame": {
               "duration": 0,
               "redraw": true
              },
              "fromcurrent": true,
              "mode": "immediate",
              "transition": {
               "duration": 0,
               "easing": "linear"
              }
             }
            ],
            "label": "2020-09",
            "method": "animate"
           },
           {
            "args": [
             [
              "2020-10"
             ],
             {
              "frame": {
               "duration": 0,
               "redraw": true
              },
              "fromcurrent": true,
              "mode": "immediate",
              "transition": {
               "duration": 0,
               "easing": "linear"
              }
             }
            ],
            "label": "2020-10",
            "method": "animate"
           },
           {
            "args": [
             [
              "2020-11"
             ],
             {
              "frame": {
               "duration": 0,
               "redraw": true
              },
              "fromcurrent": true,
              "mode": "immediate",
              "transition": {
               "duration": 0,
               "easing": "linear"
              }
             }
            ],
            "label": "2020-11",
            "method": "animate"
           },
           {
            "args": [
             [
              "2020-12"
             ],
             {
              "frame": {
               "duration": 0,
               "redraw": true
              },
              "fromcurrent": true,
              "mode": "immediate",
              "transition": {
               "duration": 0,
               "easing": "linear"
              }
             }
            ],
            "label": "2020-12",
            "method": "animate"
           },
           {
            "args": [
             [
              "2021-01"
             ],
             {
              "frame": {
               "duration": 0,
               "redraw": true
              },
              "fromcurrent": true,
              "mode": "immediate",
              "transition": {
               "duration": 0,
               "easing": "linear"
              }
             }
            ],
            "label": "2021-01",
            "method": "animate"
           },
           {
            "args": [
             [
              "2021-02"
             ],
             {
              "frame": {
               "duration": 0,
               "redraw": true
              },
              "fromcurrent": true,
              "mode": "immediate",
              "transition": {
               "duration": 0,
               "easing": "linear"
              }
             }
            ],
            "label": "2021-02",
            "method": "animate"
           },
           {
            "args": [
             [
              "2021-03"
             ],
             {
              "frame": {
               "duration": 0,
               "redraw": true
              },
              "fromcurrent": true,
              "mode": "immediate",
              "transition": {
               "duration": 0,
               "easing": "linear"
              }
             }
            ],
            "label": "2021-03",
            "method": "animate"
           },
           {
            "args": [
             [
              "2021-04"
             ],
             {
              "frame": {
               "duration": 0,
               "redraw": true
              },
              "fromcurrent": true,
              "mode": "immediate",
              "transition": {
               "duration": 0,
               "easing": "linear"
              }
             }
            ],
            "label": "2021-04",
            "method": "animate"
           },
           {
            "args": [
             [
              "2021-05"
             ],
             {
              "frame": {
               "duration": 0,
               "redraw": true
              },
              "fromcurrent": true,
              "mode": "immediate",
              "transition": {
               "duration": 0,
               "easing": "linear"
              }
             }
            ],
            "label": "2021-05",
            "method": "animate"
           },
           {
            "args": [
             [
              "2021-06"
             ],
             {
              "frame": {
               "duration": 0,
               "redraw": true
              },
              "fromcurrent": true,
              "mode": "immediate",
              "transition": {
               "duration": 0,
               "easing": "linear"
              }
             }
            ],
            "label": "2021-06",
            "method": "animate"
           },
           {
            "args": [
             [
              "2021-07"
             ],
             {
              "frame": {
               "duration": 0,
               "redraw": true
              },
              "fromcurrent": true,
              "mode": "immediate",
              "transition": {
               "duration": 0,
               "easing": "linear"
              }
             }
            ],
            "label": "2021-07",
            "method": "animate"
           },
           {
            "args": [
             [
              "2021-08"
             ],
             {
              "frame": {
               "duration": 0,
               "redraw": true
              },
              "fromcurrent": true,
              "mode": "immediate",
              "transition": {
               "duration": 0,
               "easing": "linear"
              }
             }
            ],
            "label": "2021-08",
            "method": "animate"
           },
           {
            "args": [
             [
              "2021-09"
             ],
             {
              "frame": {
               "duration": 0,
               "redraw": true
              },
              "fromcurrent": true,
              "mode": "immediate",
              "transition": {
               "duration": 0,
               "easing": "linear"
              }
             }
            ],
            "label": "2021-09",
            "method": "animate"
           },
           {
            "args": [
             [
              "2021-10"
             ],
             {
              "frame": {
               "duration": 0,
               "redraw": true
              },
              "fromcurrent": true,
              "mode": "immediate",
              "transition": {
               "duration": 0,
               "easing": "linear"
              }
             }
            ],
            "label": "2021-10",
            "method": "animate"
           },
           {
            "args": [
             [
              "2021-11"
             ],
             {
              "frame": {
               "duration": 0,
               "redraw": true
              },
              "fromcurrent": true,
              "mode": "immediate",
              "transition": {
               "duration": 0,
               "easing": "linear"
              }
             }
            ],
            "label": "2021-11",
            "method": "animate"
           },
           {
            "args": [
             [
              "2021-12"
             ],
             {
              "frame": {
               "duration": 0,
               "redraw": true
              },
              "fromcurrent": true,
              "mode": "immediate",
              "transition": {
               "duration": 0,
               "easing": "linear"
              }
             }
            ],
            "label": "2021-12",
            "method": "animate"
           },
           {
            "args": [
             [
              "2022-01"
             ],
             {
              "frame": {
               "duration": 0,
               "redraw": true
              },
              "fromcurrent": true,
              "mode": "immediate",
              "transition": {
               "duration": 0,
               "easing": "linear"
              }
             }
            ],
            "label": "2022-01",
            "method": "animate"
           },
           {
            "args": [
             [
              "2022-02"
             ],
             {
              "frame": {
               "duration": 0,
               "redraw": true
              },
              "fromcurrent": true,
              "mode": "immediate",
              "transition": {
               "duration": 0,
               "easing": "linear"
              }
             }
            ],
            "label": "2022-02",
            "method": "animate"
           },
           {
            "args": [
             [
              "2022-03"
             ],
             {
              "frame": {
               "duration": 0,
               "redraw": true
              },
              "fromcurrent": true,
              "mode": "immediate",
              "transition": {
               "duration": 0,
               "easing": "linear"
              }
             }
            ],
            "label": "2022-03",
            "method": "animate"
           },
           {
            "args": [
             [
              "2022-04"
             ],
             {
              "frame": {
               "duration": 0,
               "redraw": true
              },
              "fromcurrent": true,
              "mode": "immediate",
              "transition": {
               "duration": 0,
               "easing": "linear"
              }
             }
            ],
            "label": "2022-04",
            "method": "animate"
           },
           {
            "args": [
             [
              "2022-05"
             ],
             {
              "frame": {
               "duration": 0,
               "redraw": true
              },
              "fromcurrent": true,
              "mode": "immediate",
              "transition": {
               "duration": 0,
               "easing": "linear"
              }
             }
            ],
            "label": "2022-05",
            "method": "animate"
           },
           {
            "args": [
             [
              "2022-06"
             ],
             {
              "frame": {
               "duration": 0,
               "redraw": true
              },
              "fromcurrent": true,
              "mode": "immediate",
              "transition": {
               "duration": 0,
               "easing": "linear"
              }
             }
            ],
            "label": "2022-06",
            "method": "animate"
           },
           {
            "args": [
             [
              "2022-07"
             ],
             {
              "frame": {
               "duration": 0,
               "redraw": true
              },
              "fromcurrent": true,
              "mode": "immediate",
              "transition": {
               "duration": 0,
               "easing": "linear"
              }
             }
            ],
            "label": "2022-07",
            "method": "animate"
           },
           {
            "args": [
             [
              "2022-08"
             ],
             {
              "frame": {
               "duration": 0,
               "redraw": true
              },
              "fromcurrent": true,
              "mode": "immediate",
              "transition": {
               "duration": 0,
               "easing": "linear"
              }
             }
            ],
            "label": "2022-08",
            "method": "animate"
           },
           {
            "args": [
             [
              "2022-09"
             ],
             {
              "frame": {
               "duration": 0,
               "redraw": true
              },
              "fromcurrent": true,
              "mode": "immediate",
              "transition": {
               "duration": 0,
               "easing": "linear"
              }
             }
            ],
            "label": "2022-09",
            "method": "animate"
           },
           {
            "args": [
             [
              "2022-10"
             ],
             {
              "frame": {
               "duration": 0,
               "redraw": true
              },
              "fromcurrent": true,
              "mode": "immediate",
              "transition": {
               "duration": 0,
               "easing": "linear"
              }
             }
            ],
            "label": "2022-10",
            "method": "animate"
           },
           {
            "args": [
             [
              "2022-11"
             ],
             {
              "frame": {
               "duration": 0,
               "redraw": true
              },
              "fromcurrent": true,
              "mode": "immediate",
              "transition": {
               "duration": 0,
               "easing": "linear"
              }
             }
            ],
            "label": "2022-11",
            "method": "animate"
           },
           {
            "args": [
             [
              "2022-12"
             ],
             {
              "frame": {
               "duration": 0,
               "redraw": true
              },
              "fromcurrent": true,
              "mode": "immediate",
              "transition": {
               "duration": 0,
               "easing": "linear"
              }
             }
            ],
            "label": "2022-12",
            "method": "animate"
           }
          ],
          "x": 0.1,
          "xanchor": "left",
          "y": 0,
          "yanchor": "top"
         }
        ],
        "template": {
         "data": {
          "bar": [
           {
            "error_x": {
             "color": "#2a3f5f"
            },
            "error_y": {
             "color": "#2a3f5f"
            },
            "marker": {
             "line": {
              "color": "#E5ECF6",
              "width": 0.5
             },
             "pattern": {
              "fillmode": "overlay",
              "size": 10,
              "solidity": 0.2
             }
            },
            "type": "bar"
           }
          ],
          "barpolar": [
           {
            "marker": {
             "line": {
              "color": "#E5ECF6",
              "width": 0.5
             },
             "pattern": {
              "fillmode": "overlay",
              "size": 10,
              "solidity": 0.2
             }
            },
            "type": "barpolar"
           }
          ],
          "carpet": [
           {
            "aaxis": {
             "endlinecolor": "#2a3f5f",
             "gridcolor": "white",
             "linecolor": "white",
             "minorgridcolor": "white",
             "startlinecolor": "#2a3f5f"
            },
            "baxis": {
             "endlinecolor": "#2a3f5f",
             "gridcolor": "white",
             "linecolor": "white",
             "minorgridcolor": "white",
             "startlinecolor": "#2a3f5f"
            },
            "type": "carpet"
           }
          ],
          "choropleth": [
           {
            "colorbar": {
             "outlinewidth": 0,
             "ticks": ""
            },
            "type": "choropleth"
           }
          ],
          "contour": [
           {
            "colorbar": {
             "outlinewidth": 0,
             "ticks": ""
            },
            "colorscale": [
             [
              0,
              "#0d0887"
             ],
             [
              0.1111111111111111,
              "#46039f"
             ],
             [
              0.2222222222222222,
              "#7201a8"
             ],
             [
              0.3333333333333333,
              "#9c179e"
             ],
             [
              0.4444444444444444,
              "#bd3786"
             ],
             [
              0.5555555555555556,
              "#d8576b"
             ],
             [
              0.6666666666666666,
              "#ed7953"
             ],
             [
              0.7777777777777778,
              "#fb9f3a"
             ],
             [
              0.8888888888888888,
              "#fdca26"
             ],
             [
              1,
              "#f0f921"
             ]
            ],
            "type": "contour"
           }
          ],
          "contourcarpet": [
           {
            "colorbar": {
             "outlinewidth": 0,
             "ticks": ""
            },
            "type": "contourcarpet"
           }
          ],
          "heatmap": [
           {
            "colorbar": {
             "outlinewidth": 0,
             "ticks": ""
            },
            "colorscale": [
             [
              0,
              "#0d0887"
             ],
             [
              0.1111111111111111,
              "#46039f"
             ],
             [
              0.2222222222222222,
              "#7201a8"
             ],
             [
              0.3333333333333333,
              "#9c179e"
             ],
             [
              0.4444444444444444,
              "#bd3786"
             ],
             [
              0.5555555555555556,
              "#d8576b"
             ],
             [
              0.6666666666666666,
              "#ed7953"
             ],
             [
              0.7777777777777778,
              "#fb9f3a"
             ],
             [
              0.8888888888888888,
              "#fdca26"
             ],
             [
              1,
              "#f0f921"
             ]
            ],
            "type": "heatmap"
           }
          ],
          "heatmapgl": [
           {
            "colorbar": {
             "outlinewidth": 0,
             "ticks": ""
            },
            "colorscale": [
             [
              0,
              "#0d0887"
             ],
             [
              0.1111111111111111,
              "#46039f"
             ],
             [
              0.2222222222222222,
              "#7201a8"
             ],
             [
              0.3333333333333333,
              "#9c179e"
             ],
             [
              0.4444444444444444,
              "#bd3786"
             ],
             [
              0.5555555555555556,
              "#d8576b"
             ],
             [
              0.6666666666666666,
              "#ed7953"
             ],
             [
              0.7777777777777778,
              "#fb9f3a"
             ],
             [
              0.8888888888888888,
              "#fdca26"
             ],
             [
              1,
              "#f0f921"
             ]
            ],
            "type": "heatmapgl"
           }
          ],
          "histogram": [
           {
            "marker": {
             "pattern": {
              "fillmode": "overlay",
              "size": 10,
              "solidity": 0.2
             }
            },
            "type": "histogram"
           }
          ],
          "histogram2d": [
           {
            "colorbar": {
             "outlinewidth": 0,
             "ticks": ""
            },
            "colorscale": [
             [
              0,
              "#0d0887"
             ],
             [
              0.1111111111111111,
              "#46039f"
             ],
             [
              0.2222222222222222,
              "#7201a8"
             ],
             [
              0.3333333333333333,
              "#9c179e"
             ],
             [
              0.4444444444444444,
              "#bd3786"
             ],
             [
              0.5555555555555556,
              "#d8576b"
             ],
             [
              0.6666666666666666,
              "#ed7953"
             ],
             [
              0.7777777777777778,
              "#fb9f3a"
             ],
             [
              0.8888888888888888,
              "#fdca26"
             ],
             [
              1,
              "#f0f921"
             ]
            ],
            "type": "histogram2d"
           }
          ],
          "histogram2dcontour": [
           {
            "colorbar": {
             "outlinewidth": 0,
             "ticks": ""
            },
            "colorscale": [
             [
              0,
              "#0d0887"
             ],
             [
              0.1111111111111111,
              "#46039f"
             ],
             [
              0.2222222222222222,
              "#7201a8"
             ],
             [
              0.3333333333333333,
              "#9c179e"
             ],
             [
              0.4444444444444444,
              "#bd3786"
             ],
             [
              0.5555555555555556,
              "#d8576b"
             ],
             [
              0.6666666666666666,
              "#ed7953"
             ],
             [
              0.7777777777777778,
              "#fb9f3a"
             ],
             [
              0.8888888888888888,
              "#fdca26"
             ],
             [
              1,
              "#f0f921"
             ]
            ],
            "type": "histogram2dcontour"
           }
          ],
          "mesh3d": [
           {
            "colorbar": {
             "outlinewidth": 0,
             "ticks": ""
            },
            "type": "mesh3d"
           }
          ],
          "parcoords": [
           {
            "line": {
             "colorbar": {
              "outlinewidth": 0,
              "ticks": ""
             }
            },
            "type": "parcoords"
           }
          ],
          "pie": [
           {
            "automargin": true,
            "type": "pie"
           }
          ],
          "scatter": [
           {
            "fillpattern": {
             "fillmode": "overlay",
             "size": 10,
             "solidity": 0.2
            },
            "type": "scatter"
           }
          ],
          "scatter3d": [
           {
            "line": {
             "colorbar": {
              "outlinewidth": 0,
              "ticks": ""
             }
            },
            "marker": {
             "colorbar": {
              "outlinewidth": 0,
              "ticks": ""
             }
            },
            "type": "scatter3d"
           }
          ],
          "scattercarpet": [
           {
            "marker": {
             "colorbar": {
              "outlinewidth": 0,
              "ticks": ""
             }
            },
            "type": "scattercarpet"
           }
          ],
          "scattergeo": [
           {
            "marker": {
             "colorbar": {
              "outlinewidth": 0,
              "ticks": ""
             }
            },
            "type": "scattergeo"
           }
          ],
          "scattergl": [
           {
            "marker": {
             "colorbar": {
              "outlinewidth": 0,
              "ticks": ""
             }
            },
            "type": "scattergl"
           }
          ],
          "scattermapbox": [
           {
            "marker": {
             "colorbar": {
              "outlinewidth": 0,
              "ticks": ""
             }
            },
            "type": "scattermapbox"
           }
          ],
          "scatterpolar": [
           {
            "marker": {
             "colorbar": {
              "outlinewidth": 0,
              "ticks": ""
             }
            },
            "type": "scatterpolar"
           }
          ],
          "scatterpolargl": [
           {
            "marker": {
             "colorbar": {
              "outlinewidth": 0,
              "ticks": ""
             }
            },
            "type": "scatterpolargl"
           }
          ],
          "scatterternary": [
           {
            "marker": {
             "colorbar": {
              "outlinewidth": 0,
              "ticks": ""
             }
            },
            "type": "scatterternary"
           }
          ],
          "surface": [
           {
            "colorbar": {
             "outlinewidth": 0,
             "ticks": ""
            },
            "colorscale": [
             [
              0,
              "#0d0887"
             ],
             [
              0.1111111111111111,
              "#46039f"
             ],
             [
              0.2222222222222222,
              "#7201a8"
             ],
             [
              0.3333333333333333,
              "#9c179e"
             ],
             [
              0.4444444444444444,
              "#bd3786"
             ],
             [
              0.5555555555555556,
              "#d8576b"
             ],
             [
              0.6666666666666666,
              "#ed7953"
             ],
             [
              0.7777777777777778,
              "#fb9f3a"
             ],
             [
              0.8888888888888888,
              "#fdca26"
             ],
             [
              1,
              "#f0f921"
             ]
            ],
            "type": "surface"
           }
          ],
          "table": [
           {
            "cells": {
             "fill": {
              "color": "#EBF0F8"
             },
             "line": {
              "color": "white"
             }
            },
            "header": {
             "fill": {
              "color": "#C8D4E3"
             },
             "line": {
              "color": "white"
             }
            },
            "type": "table"
           }
          ]
         },
         "layout": {
          "annotationdefaults": {
           "arrowcolor": "#2a3f5f",
           "arrowhead": 0,
           "arrowwidth": 1
          },
          "autotypenumbers": "strict",
          "coloraxis": {
           "colorbar": {
            "outlinewidth": 0,
            "ticks": ""
           }
          },
          "colorscale": {
           "diverging": [
            [
             0,
             "#8e0152"
            ],
            [
             0.1,
             "#c51b7d"
            ],
            [
             0.2,
             "#de77ae"
            ],
            [
             0.3,
             "#f1b6da"
            ],
            [
             0.4,
             "#fde0ef"
            ],
            [
             0.5,
             "#f7f7f7"
            ],
            [
             0.6,
             "#e6f5d0"
            ],
            [
             0.7,
             "#b8e186"
            ],
            [
             0.8,
             "#7fbc41"
            ],
            [
             0.9,
             "#4d9221"
            ],
            [
             1,
             "#276419"
            ]
           ],
           "sequential": [
            [
             0,
             "#0d0887"
            ],
            [
             0.1111111111111111,
             "#46039f"
            ],
            [
             0.2222222222222222,
             "#7201a8"
            ],
            [
             0.3333333333333333,
             "#9c179e"
            ],
            [
             0.4444444444444444,
             "#bd3786"
            ],
            [
             0.5555555555555556,
             "#d8576b"
            ],
            [
             0.6666666666666666,
             "#ed7953"
            ],
            [
             0.7777777777777778,
             "#fb9f3a"
            ],
            [
             0.8888888888888888,
             "#fdca26"
            ],
            [
             1,
             "#f0f921"
            ]
           ],
           "sequentialminus": [
            [
             0,
             "#0d0887"
            ],
            [
             0.1111111111111111,
             "#46039f"
            ],
            [
             0.2222222222222222,
             "#7201a8"
            ],
            [
             0.3333333333333333,
             "#9c179e"
            ],
            [
             0.4444444444444444,
             "#bd3786"
            ],
            [
             0.5555555555555556,
             "#d8576b"
            ],
            [
             0.6666666666666666,
             "#ed7953"
            ],
            [
             0.7777777777777778,
             "#fb9f3a"
            ],
            [
             0.8888888888888888,
             "#fdca26"
            ],
            [
             1,
             "#f0f921"
            ]
           ]
          },
          "colorway": [
           "#636efa",
           "#EF553B",
           "#00cc96",
           "#ab63fa",
           "#FFA15A",
           "#19d3f3",
           "#FF6692",
           "#B6E880",
           "#FF97FF",
           "#FECB52"
          ],
          "font": {
           "color": "#2a3f5f"
          },
          "geo": {
           "bgcolor": "white",
           "lakecolor": "white",
           "landcolor": "#E5ECF6",
           "showlakes": true,
           "showland": true,
           "subunitcolor": "white"
          },
          "hoverlabel": {
           "align": "left"
          },
          "hovermode": "closest",
          "mapbox": {
           "style": "light"
          },
          "paper_bgcolor": "white",
          "plot_bgcolor": "#E5ECF6",
          "polar": {
           "angularaxis": {
            "gridcolor": "white",
            "linecolor": "white",
            "ticks": ""
           },
           "bgcolor": "#E5ECF6",
           "radialaxis": {
            "gridcolor": "white",
            "linecolor": "white",
            "ticks": ""
           }
          },
          "scene": {
           "xaxis": {
            "backgroundcolor": "#E5ECF6",
            "gridcolor": "white",
            "gridwidth": 2,
            "linecolor": "white",
            "showbackground": true,
            "ticks": "",
            "zerolinecolor": "white"
           },
           "yaxis": {
            "backgroundcolor": "#E5ECF6",
            "gridcolor": "white",
            "gridwidth": 2,
            "linecolor": "white",
            "showbackground": true,
            "ticks": "",
            "zerolinecolor": "white"
           },
           "zaxis": {
            "backgroundcolor": "#E5ECF6",
            "gridcolor": "white",
            "gridwidth": 2,
            "linecolor": "white",
            "showbackground": true,
            "ticks": "",
            "zerolinecolor": "white"
           }
          },
          "shapedefaults": {
           "line": {
            "color": "#2a3f5f"
           }
          },
          "ternary": {
           "aaxis": {
            "gridcolor": "white",
            "linecolor": "white",
            "ticks": ""
           },
           "baxis": {
            "gridcolor": "white",
            "linecolor": "white",
            "ticks": ""
           },
           "bgcolor": "#E5ECF6",
           "caxis": {
            "gridcolor": "white",
            "linecolor": "white",
            "ticks": ""
           }
          },
          "title": {
           "x": 0.05
          },
          "xaxis": {
           "automargin": true,
           "gridcolor": "white",
           "linecolor": "white",
           "ticks": "",
           "title": {
            "standoff": 15
           },
           "zerolinecolor": "white",
           "zerolinewidth": 2
          },
          "yaxis": {
           "automargin": true,
           "gridcolor": "white",
           "linecolor": "white",
           "ticks": "",
           "title": {
            "standoff": 15
           },
           "zerolinecolor": "white",
           "zerolinewidth": 2
          }
         }
        },
        "updatemenus": [
         {
          "buttons": [
           {
            "args": [
             null,
             {
              "frame": {
               "duration": 500,
               "redraw": true
              },
              "fromcurrent": true,
              "mode": "immediate",
              "transition": {
               "duration": 500,
               "easing": "linear"
              }
             }
            ],
            "label": "&#9654;",
            "method": "animate"
           },
           {
            "args": [
             [
              null
             ],
             {
              "frame": {
               "duration": 0,
               "redraw": true
              },
              "fromcurrent": true,
              "mode": "immediate",
              "transition": {
               "duration": 0,
               "easing": "linear"
              }
             }
            ],
            "label": "&#9724;",
            "method": "animate"
           }
          ],
          "direction": "left",
          "pad": {
           "r": 10,
           "t": 70
          },
          "showactive": false,
          "type": "buttons",
          "x": 0.1,
          "xanchor": "right",
          "y": 0,
          "yanchor": "top"
         }
        ],
        "xaxis": {
         "anchor": "y",
         "domain": [
          0,
          1
         ],
         "range": [
          0,
          160000
         ],
         "title": {
          "text": "acumulado"
         }
        },
        "yaxis": {
         "anchor": "x",
         "categoryarray": [
          "Loja 6",
          "Loja 5",
          "Loja 4",
          "Loja 3",
          "Loja 2",
          "Loja 1"
         ],
         "categoryorder": "array",
         "domain": [
          0,
          1
         ],
         "title": {
          "text": "loja"
         }
        }
       }
      }
     },
     "metadata": {},
     "output_type": "display_data"
    }
   ],
   "source": [
    "# gerando o gráfico\n",
    "fig = px.bar(agrupado,\n",
    "            x='acumulado',\n",
    "            y=\"loja\",\n",
    "            color='loja',\n",
    "            text_auto=True,\n",
    "            range_x=[0,160000], \n",
    "            animation_frame='ano_mes')\n",
    "fig.show()"
   ]
  },
  {
   "attachments": {},
   "cell_type": "markdown",
   "metadata": {},
   "source": [
    "## Exportando o gráfico"
   ]
  },
  {
   "cell_type": "code",
   "execution_count": 6,
   "metadata": {},
   "outputs": [],
   "source": [
    "fig.write_html('Gráfico animado.html')"
   ]
  }
 ],
 "metadata": {
  "kernelspec": {
   "display_name": "Python 3",
   "language": "python",
   "name": "python3"
  },
  "language_info": {
   "codemirror_mode": {
    "name": "ipython",
    "version": 3
   },
   "file_extension": ".py",
   "mimetype": "text/x-python",
   "name": "python",
   "nbconvert_exporter": "python",
   "pygments_lexer": "ipython3",
   "version": "3.11.2"
  },
  "orig_nbformat": 4
 },
 "nbformat": 4,
 "nbformat_minor": 2
}
